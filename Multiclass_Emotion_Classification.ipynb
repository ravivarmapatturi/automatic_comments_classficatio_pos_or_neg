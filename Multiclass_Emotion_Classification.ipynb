{
  "cells": [
    {
      "cell_type": "code",
      "execution_count": 2,
      "metadata": {
        "colab": {
          "base_uri": "https://localhost:8080/"
        },
        "id": "bsgTyddeN5te",
        "outputId": "dddf3831-6123-4283-fe93-23d8e0d5c110"
      },
      "outputs": [
        {
          "output_type": "stream",
          "name": "stdout",
          "text": [
            "--2024-07-24 16:57:51--  https://storage.googleapis.com/gresearch/goemotions/data/full_dataset/goemotions_1.csv\n",
            "Resolving storage.googleapis.com (storage.googleapis.com)... 74.125.135.207, 74.125.142.207, 74.125.195.207, ...\n",
            "Connecting to storage.googleapis.com (storage.googleapis.com)|74.125.135.207|:443... connected.\n",
            "HTTP request sent, awaiting response... 200 OK\n",
            "Length: 14174600 (14M) [application/octet-stream]\n",
            "Saving to: ‘data/full_dataset/goemotions_1.csv.1’\n",
            "\n",
            "goemotions_1.csv.1  100%[===================>]  13.52M  39.7MB/s    in 0.3s    \n",
            "\n",
            "2024-07-24 16:57:52 (39.7 MB/s) - ‘data/full_dataset/goemotions_1.csv.1’ saved [14174600/14174600]\n",
            "\n",
            "--2024-07-24 16:57:52--  https://storage.googleapis.com/gresearch/goemotions/data/full_dataset/goemotions_2.csv\n",
            "Resolving storage.googleapis.com (storage.googleapis.com)... 74.125.135.207, 74.125.142.207, 74.125.195.207, ...\n",
            "Connecting to storage.googleapis.com (storage.googleapis.com)|74.125.135.207|:443... connected.\n",
            "HTTP request sent, awaiting response... 200 OK\n",
            "Length: 14173154 (14M) [application/octet-stream]\n",
            "Saving to: ‘data/full_dataset/goemotions_2.csv.1’\n",
            "\n",
            "goemotions_2.csv.1  100%[===================>]  13.52M  --.-KB/s    in 0.1s    \n",
            "\n",
            "2024-07-24 16:57:52 (128 MB/s) - ‘data/full_dataset/goemotions_2.csv.1’ saved [14173154/14173154]\n",
            "\n",
            "--2024-07-24 16:57:52--  https://storage.googleapis.com/gresearch/goemotions/data/full_dataset/goemotions_3.csv\n",
            "Resolving storage.googleapis.com (storage.googleapis.com)... 74.125.135.207, 74.125.142.207, 74.125.195.207, ...\n",
            "Connecting to storage.googleapis.com (storage.googleapis.com)|74.125.135.207|:443... connected.\n",
            "HTTP request sent, awaiting response... 200 OK\n",
            "Length: 14395164 (14M) [application/octet-stream]\n",
            "Saving to: ‘data/full_dataset/goemotions_3.csv.1’\n",
            "\n",
            "goemotions_3.csv.1  100%[===================>]  13.73M  74.2MB/s    in 0.2s    \n",
            "\n",
            "2024-07-24 16:57:52 (74.2 MB/s) - ‘data/full_dataset/goemotions_3.csv.1’ saved [14395164/14395164]\n",
            "\n"
          ]
        }
      ],
      "source": [
        "!wget -P data/full_dataset/ https://storage.googleapis.com/gresearch/goemotions/data/full_dataset/goemotions_1.csv\n",
        "!wget -P data/full_dataset/ https://storage.googleapis.com/gresearch/goemotions/data/full_dataset/goemotions_2.csv\n",
        "!wget -P data/full_dataset/ https://storage.googleapis.com/gresearch/goemotions/data/full_dataset/goemotions_3.csv\n"
      ]
    },
    {
      "cell_type": "code",
      "execution_count": null,
      "metadata": {
        "colab": {
          "base_uri": "https://localhost:8080/"
        },
        "id": "mv6sMkLVOeVG",
        "outputId": "1d29819d-b9cf-4f6a-ac8e-174b52f878a1"
      },
      "outputs": [
        {
          "output_type": "stream",
          "name": "stdout",
          "text": [
            "                                                text       id  \\\n",
            "0                                    That game hurt.  eew5j0j   \n",
            "1   >sexuality shouldn’t be a grouping category I...  eemcysk   \n",
            "2     You do right, if you don't care then fuck 'em!  ed2mah1   \n",
            "3                                 Man I love reddit.  eeibobj   \n",
            "4  [NAME] was nowhere near them, he was by the Fa...  eda6yn6   \n",
            "\n",
            "                author            subreddit    link_id   parent_id  \\\n",
            "0                Brdd9                  nrl  t3_ajis4z  t1_eew18eq   \n",
            "1          TheGreen888     unpopularopinion  t3_ai4q37   t3_ai4q37   \n",
            "2             Labalool          confessions  t3_abru74  t1_ed2m7g7   \n",
            "3        MrsRobertshaw             facepalm  t3_ahulml   t3_ahulml   \n",
            "4  American_Fascist713  starwarsspeculation  t3_ackt2f  t1_eda65q2   \n",
            "\n",
            "    created_utc  rater_id  example_very_unclear  admiration  ...  love  \\\n",
            "0  1.548381e+09         1                 False           0  ...     0   \n",
            "1  1.548084e+09        37                  True           0  ...     0   \n",
            "2  1.546428e+09        37                 False           0  ...     0   \n",
            "3  1.547965e+09        18                 False           0  ...     1   \n",
            "4  1.546669e+09         2                 False           0  ...     0   \n",
            "\n",
            "   nervousness  optimism  pride  realization  relief  remorse  sadness  \\\n",
            "0            0         0      0            0       0        0        1   \n",
            "1            0         0      0            0       0        0        0   \n",
            "2            0         0      0            0       0        0        0   \n",
            "3            0         0      0            0       0        0        0   \n",
            "4            0         0      0            0       0        0        0   \n",
            "\n",
            "   surprise  neutral  \n",
            "0         0        0  \n",
            "1         0        0  \n",
            "2         0        1  \n",
            "3         0        0  \n",
            "4         0        1  \n",
            "\n",
            "[5 rows x 37 columns]\n",
            "Index(['text', 'id', 'author', 'subreddit', 'link_id', 'parent_id',\n",
            "       'created_utc', 'rater_id', 'example_very_unclear', 'admiration',\n",
            "       'amusement', 'anger', 'annoyance', 'approval', 'caring', 'confusion',\n",
            "       'curiosity', 'desire', 'disappointment', 'disapproval', 'disgust',\n",
            "       'embarrassment', 'excitement', 'fear', 'gratitude', 'grief', 'joy',\n",
            "       'love', 'nervousness', 'optimism', 'pride', 'realization', 'relief',\n",
            "       'remorse', 'sadness', 'surprise', 'neutral'],\n",
            "      dtype='object')\n"
          ]
        }
      ],
      "source": [
        "import pandas as pd\n",
        "\n",
        "# Load the datasets\n",
        "df1 = pd.read_csv('data/full_dataset/goemotions_1.csv')\n",
        "df2 = pd.read_csv('data/full_dataset/goemotions_2.csv')\n",
        "df3 = pd.read_csv('data/full_dataset/goemotions_3.csv')\n",
        "\n",
        "# Combine the dataframes\n",
        "df = pd.concat([df1, df2, df3], ignore_index=True)\n",
        "\n",
        "# Display the first few rows\n",
        "print(df.head())\n",
        "\n",
        "# Display the columns\n",
        "print(df.columns)\n"
      ]
    },
    {
      "cell_type": "code",
      "execution_count": null,
      "metadata": {
        "colab": {
          "base_uri": "https://localhost:8080/"
        },
        "id": "h1s81WWUQUya",
        "outputId": "42e0216e-0aa9-4d9d-b801-f06862724c99"
      },
      "outputs": [
        {
          "output_type": "stream",
          "name": "stdout",
          "text": [
            "211225\n"
          ]
        }
      ],
      "source": [
        "print(len(df))"
      ]
    },
    {
      "cell_type": "code",
      "execution_count": null,
      "metadata": {
        "colab": {
          "base_uri": "https://localhost:8080/"
        },
        "id": "2LZxWsOTR3e4",
        "outputId": "a211ce66-1f41-461a-903f-0d58691f553e"
      },
      "outputs": [
        {
          "output_type": "stream",
          "name": "stdout",
          "text": [
            "                                                text broad_emotions\n",
            "0                                    That game hurt.        sadness\n",
            "3                                 Man I love reddit.            joy\n",
            "5  Right? Considering it’s such an important docu...            joy\n",
            "6  He isn't as big, but he's still quite popular....          anger\n",
            "7  That's crazy; I went to a super [RELIGION] hig...            joy\n"
          ]
        }
      ],
      "source": [
        "import pandas as pd\n",
        "import re\n",
        "\n",
        "\n",
        "# Define the mapping dictionary\n",
        "emotion_map = {\n",
        "    \"anger\": [\"anger\", \"annoyance\", \"disapproval\"],\n",
        "    \"disgust\": [\"disgust\"],\n",
        "    \"fear\": [\"fear\", \"nervousness\"],\n",
        "    \"joy\": [\"joy\", \"amusement\", \"approval\", \"excitement\", \"gratitude\", \"love\", \"optimism\", \"relief\", \"pride\", \"admiration\", \"desire\", \"caring\"],\n",
        "    \"sadness\": [\"sadness\", \"disappointment\", \"embarrassment\", \"grief\", \"remorse\"],\n",
        "    \"surprise\": [\"surprise\", \"realization\", \"confusion\", \"curiosity\"]\n",
        "}\n",
        "\n",
        "# Reverse the mapping to facilitate easy lookup\n",
        "reverse_emotion_map = {detail: broad for broad, details in emotion_map.items() for detail in details}\n",
        "\n",
        "# Combine emotion categories into a single list\n",
        "emotion_categories = list(reverse_emotion_map.keys())\n",
        "\n",
        "# Create a new column for broad emotions\n",
        "def map_emotions(emotion_row):\n",
        "    broad_emotions = set()\n",
        "    for detail_emotion in emotion_categories:\n",
        "        if emotion_row.get(detail_emotion, 0) == 1:\n",
        "            broad_emotions.add(reverse_emotion_map[detail_emotion])\n",
        "    if broad_emotions:\n",
        "        return list(broad_emotions)[0]\n",
        "    return None\n",
        "\n",
        "# Apply the mapping function\n",
        "df['broad_emotions'] = df.apply(map_emotions, axis=1)\n",
        "\n",
        "# Keep only relevant columns\n",
        "df = df[['text', 'broad_emotions']]\n",
        "\n",
        "# Filter out rows with None values in broad_emotions\n",
        "df = df.dropna(subset=['broad_emotions'])\n",
        "\n",
        "# Display the first few rows\n",
        "print(df.head())\n"
      ]
    },
    {
      "cell_type": "code",
      "execution_count": null,
      "metadata": {
        "colab": {
          "base_uri": "https://localhost:8080/"
        },
        "id": "rMHK3e0ISTNJ",
        "outputId": "04b1a7aa-ceb7-4052-98cd-85588cddb459"
      },
      "outputs": [
        {
          "output_type": "execute_result",
          "data": {
            "text/plain": [
              "152516"
            ]
          },
          "metadata": {},
          "execution_count": 8
        }
      ],
      "source": [
        "len(df)"
      ]
    },
    {
      "cell_type": "code",
      "execution_count": null,
      "metadata": {
        "colab": {
          "base_uri": "https://localhost:8080/"
        },
        "id": "JJ2QbGbKSavp",
        "outputId": "80a964aa-51b6-4ebe-94f5-f792d0a1387a"
      },
      "outputs": [
        {
          "output_type": "stream",
          "name": "stdout",
          "text": [
            "Training set size: 122012\n",
            "Validation set size: 15252\n",
            "Test set size: 15252\n",
            "CSV files have been saved successfully.\n"
          ]
        }
      ],
      "source": [
        "from sklearn.model_selection import train_test_split\n",
        "\n",
        "# Assuming df is your dataframe with text and broad_emotions\n",
        "\n",
        "# Split the data into training, validation, and test sets\n",
        "train_data, temp_data = train_test_split(df, test_size=0.2, random_state=42)\n",
        "val_data, test_data = train_test_split(temp_data, test_size=0.5, random_state=42)\n",
        "\n",
        "# Print the sizes of each set\n",
        "print(f'Training set size: {train_data.shape[0]}')\n",
        "print(f'Validation set size: {val_data.shape[0]}')\n",
        "print(f'Test set size: {test_data.shape[0]}')\n",
        "\n",
        "# Save the dataframes to CSV files\n",
        "train_data.to_csv('data/full_dataset/train_data.csv', index=False)\n",
        "val_data.to_csv('data/full_dataset/val_data.csv', index=False)\n",
        "test_data.to_csv('data/full_dataset/test_data.csv', index=False)\n",
        "\n",
        "print(\"CSV files have been saved successfully.\")\n"
      ]
    },
    {
      "cell_type": "code",
      "execution_count": null,
      "metadata": {
        "id": "Rp0hCbyVndg5"
      },
      "outputs": [],
      "source": [
        "import random\n",
        "class Sentiment:\n",
        "    sadness=\"sadness\"\n",
        "    joy=\"joy\"\n",
        "    surprise=\"surprise\"\n",
        "    anger=\"anger\"\n",
        "    fear=\"fear\"\n",
        "\n",
        "\n",
        "class Review:\n",
        "    def __init__(self,text,label):\n",
        "        self.text=text\n",
        "        self.label=label\n"
      ]
    },
    {
      "cell_type": "code",
      "execution_count": null,
      "metadata": {
        "id": "0XdIED20VVia"
      },
      "outputs": [],
      "source": [
        "\n",
        "class Review_container:\n",
        "    def __init__(self,reviews):\n",
        "        self.reviews=reviews\n",
        "\n",
        "    def get_text(self):\n",
        "        return [i.text for i in self.reviews]\n",
        "    def get_sentiment(self):\n",
        "        return [i.label for i in self.reviews]\n",
        "\n",
        "    def evenly_distributed(self):\n",
        "        sadness=list(filter(lambda x:x.label==Sentiment.sadness,self.reviews))\n",
        "        joy=list(filter(lambda x:x.label==Sentiment.joy,self.reviews))\n",
        "        anger=list(filter(lambda x:x.label==Sentiment.anger,self.reviews))\n",
        "        fear=list(filter(lambda x:x.label==Sentiment.fear,self.reviews))\n",
        "        surprise=list(filter(lambda x:x.label==Sentiment.surprise,self.reviews))\n",
        "\n",
        "        min_count=min([len(sadness),len(joy),len(anger),len(fear),len(surprise)])\n",
        "        print([len(sadness),len(joy),len(anger),len(fear),len(surprise)])\n",
        "        sadness=sadness[:min_count]\n",
        "        joy=joy[:min_count]\n",
        "        anger=anger[:min_count]\n",
        "        fear=fear[:min_count]\n",
        "        surprise=surprise[:min_count]\n",
        "        self.reviews=sadness+joy+anger+fear+surprise\n",
        "        random.shuffle(self.reviews)\n",
        "\n"
      ]
    },
    {
      "cell_type": "code",
      "execution_count": null,
      "metadata": {
        "id": "aNxmuRekeLyj"
      },
      "outputs": [],
      "source": [
        "import pandas as pd\n",
        "df_train=pd.read_csv(r\"/content/data/full_dataset/train_data.csv\")\n",
        "df_val=pd.read_csv(r\"/content/data/full_dataset/val_data.csv\")\n",
        "df_test=pd.read_csv(r\"/content/data/full_dataset/test_data.csv\")\n"
      ]
    },
    {
      "cell_type": "code",
      "execution_count": null,
      "metadata": {
        "colab": {
          "base_uri": "https://localhost:8080/",
          "height": 423
        },
        "id": "pRYsa_CJeYmD",
        "outputId": "7f42e8e1-1e0e-4b47-ee43-6335f94049ad"
      },
      "outputs": [
        {
          "output_type": "execute_result",
          "data": {
            "text/plain": [
              "                                                     text broad_emotions\n",
              "0              You’ve been planning this for a while huh?       surprise\n",
              "1                                A true internet classic.            joy\n",
              "2       What a transition...from \"Ab-Fab\" to \"Au-Bo\" :...       surprise\n",
              "3       > pushed all of them Hey dumbass you pushed th...          anger\n",
              "4                                     Thank you, agreed.             joy\n",
              "...                                                   ...            ...\n",
              "122007  Given the situation I actually think it was th...            joy\n",
              "122008  Yay, I hope so! I'm feeling good about this de...            joy\n",
              "122009  Because it was a cool video it was sweet, and ...            joy\n",
              "122010                                Sexual frustration.          anger\n",
              "122011  What makes BDS anti-Semitic, as opposed to jus...          anger\n",
              "\n",
              "[122012 rows x 2 columns]"
            ],
            "text/html": [
              "\n",
              "  <div id=\"df-42e36c4d-991e-4cbc-9abf-2a9548651bfb\" class=\"colab-df-container\">\n",
              "    <div>\n",
              "<style scoped>\n",
              "    .dataframe tbody tr th:only-of-type {\n",
              "        vertical-align: middle;\n",
              "    }\n",
              "\n",
              "    .dataframe tbody tr th {\n",
              "        vertical-align: top;\n",
              "    }\n",
              "\n",
              "    .dataframe thead th {\n",
              "        text-align: right;\n",
              "    }\n",
              "</style>\n",
              "<table border=\"1\" class=\"dataframe\">\n",
              "  <thead>\n",
              "    <tr style=\"text-align: right;\">\n",
              "      <th></th>\n",
              "      <th>text</th>\n",
              "      <th>broad_emotions</th>\n",
              "    </tr>\n",
              "  </thead>\n",
              "  <tbody>\n",
              "    <tr>\n",
              "      <th>0</th>\n",
              "      <td>You’ve been planning this for a while huh?</td>\n",
              "      <td>surprise</td>\n",
              "    </tr>\n",
              "    <tr>\n",
              "      <th>1</th>\n",
              "      <td>A true internet classic.</td>\n",
              "      <td>joy</td>\n",
              "    </tr>\n",
              "    <tr>\n",
              "      <th>2</th>\n",
              "      <td>What a transition...from \"Ab-Fab\" to \"Au-Bo\" :...</td>\n",
              "      <td>surprise</td>\n",
              "    </tr>\n",
              "    <tr>\n",
              "      <th>3</th>\n",
              "      <td>&gt; pushed all of them Hey dumbass you pushed th...</td>\n",
              "      <td>anger</td>\n",
              "    </tr>\n",
              "    <tr>\n",
              "      <th>4</th>\n",
              "      <td>Thank you, agreed.</td>\n",
              "      <td>joy</td>\n",
              "    </tr>\n",
              "    <tr>\n",
              "      <th>...</th>\n",
              "      <td>...</td>\n",
              "      <td>...</td>\n",
              "    </tr>\n",
              "    <tr>\n",
              "      <th>122007</th>\n",
              "      <td>Given the situation I actually think it was th...</td>\n",
              "      <td>joy</td>\n",
              "    </tr>\n",
              "    <tr>\n",
              "      <th>122008</th>\n",
              "      <td>Yay, I hope so! I'm feeling good about this de...</td>\n",
              "      <td>joy</td>\n",
              "    </tr>\n",
              "    <tr>\n",
              "      <th>122009</th>\n",
              "      <td>Because it was a cool video it was sweet, and ...</td>\n",
              "      <td>joy</td>\n",
              "    </tr>\n",
              "    <tr>\n",
              "      <th>122010</th>\n",
              "      <td>Sexual frustration.</td>\n",
              "      <td>anger</td>\n",
              "    </tr>\n",
              "    <tr>\n",
              "      <th>122011</th>\n",
              "      <td>What makes BDS anti-Semitic, as opposed to jus...</td>\n",
              "      <td>anger</td>\n",
              "    </tr>\n",
              "  </tbody>\n",
              "</table>\n",
              "<p>122012 rows × 2 columns</p>\n",
              "</div>\n",
              "    <div class=\"colab-df-buttons\">\n",
              "\n",
              "  <div class=\"colab-df-container\">\n",
              "    <button class=\"colab-df-convert\" onclick=\"convertToInteractive('df-42e36c4d-991e-4cbc-9abf-2a9548651bfb')\"\n",
              "            title=\"Convert this dataframe to an interactive table.\"\n",
              "            style=\"display:none;\">\n",
              "\n",
              "  <svg xmlns=\"http://www.w3.org/2000/svg\" height=\"24px\" viewBox=\"0 -960 960 960\">\n",
              "    <path d=\"M120-120v-720h720v720H120Zm60-500h600v-160H180v160Zm220 220h160v-160H400v160Zm0 220h160v-160H400v160ZM180-400h160v-160H180v160Zm440 0h160v-160H620v160ZM180-180h160v-160H180v160Zm440 0h160v-160H620v160Z\"/>\n",
              "  </svg>\n",
              "    </button>\n",
              "\n",
              "  <style>\n",
              "    .colab-df-container {\n",
              "      display:flex;\n",
              "      gap: 12px;\n",
              "    }\n",
              "\n",
              "    .colab-df-convert {\n",
              "      background-color: #E8F0FE;\n",
              "      border: none;\n",
              "      border-radius: 50%;\n",
              "      cursor: pointer;\n",
              "      display: none;\n",
              "      fill: #1967D2;\n",
              "      height: 32px;\n",
              "      padding: 0 0 0 0;\n",
              "      width: 32px;\n",
              "    }\n",
              "\n",
              "    .colab-df-convert:hover {\n",
              "      background-color: #E2EBFA;\n",
              "      box-shadow: 0px 1px 2px rgba(60, 64, 67, 0.3), 0px 1px 3px 1px rgba(60, 64, 67, 0.15);\n",
              "      fill: #174EA6;\n",
              "    }\n",
              "\n",
              "    .colab-df-buttons div {\n",
              "      margin-bottom: 4px;\n",
              "    }\n",
              "\n",
              "    [theme=dark] .colab-df-convert {\n",
              "      background-color: #3B4455;\n",
              "      fill: #D2E3FC;\n",
              "    }\n",
              "\n",
              "    [theme=dark] .colab-df-convert:hover {\n",
              "      background-color: #434B5C;\n",
              "      box-shadow: 0px 1px 3px 1px rgba(0, 0, 0, 0.15);\n",
              "      filter: drop-shadow(0px 1px 2px rgba(0, 0, 0, 0.3));\n",
              "      fill: #FFFFFF;\n",
              "    }\n",
              "  </style>\n",
              "\n",
              "    <script>\n",
              "      const buttonEl =\n",
              "        document.querySelector('#df-42e36c4d-991e-4cbc-9abf-2a9548651bfb button.colab-df-convert');\n",
              "      buttonEl.style.display =\n",
              "        google.colab.kernel.accessAllowed ? 'block' : 'none';\n",
              "\n",
              "      async function convertToInteractive(key) {\n",
              "        const element = document.querySelector('#df-42e36c4d-991e-4cbc-9abf-2a9548651bfb');\n",
              "        const dataTable =\n",
              "          await google.colab.kernel.invokeFunction('convertToInteractive',\n",
              "                                                    [key], {});\n",
              "        if (!dataTable) return;\n",
              "\n",
              "        const docLinkHtml = 'Like what you see? Visit the ' +\n",
              "          '<a target=\"_blank\" href=https://colab.research.google.com/notebooks/data_table.ipynb>data table notebook</a>'\n",
              "          + ' to learn more about interactive tables.';\n",
              "        element.innerHTML = '';\n",
              "        dataTable['output_type'] = 'display_data';\n",
              "        await google.colab.output.renderOutput(dataTable, element);\n",
              "        const docLink = document.createElement('div');\n",
              "        docLink.innerHTML = docLinkHtml;\n",
              "        element.appendChild(docLink);\n",
              "      }\n",
              "    </script>\n",
              "  </div>\n",
              "\n",
              "\n",
              "<div id=\"df-3dd3e5d6-7a48-47f9-883d-fec71fbfaf3b\">\n",
              "  <button class=\"colab-df-quickchart\" onclick=\"quickchart('df-3dd3e5d6-7a48-47f9-883d-fec71fbfaf3b')\"\n",
              "            title=\"Suggest charts\"\n",
              "            style=\"display:none;\">\n",
              "\n",
              "<svg xmlns=\"http://www.w3.org/2000/svg\" height=\"24px\"viewBox=\"0 0 24 24\"\n",
              "     width=\"24px\">\n",
              "    <g>\n",
              "        <path d=\"M19 3H5c-1.1 0-2 .9-2 2v14c0 1.1.9 2 2 2h14c1.1 0 2-.9 2-2V5c0-1.1-.9-2-2-2zM9 17H7v-7h2v7zm4 0h-2V7h2v10zm4 0h-2v-4h2v4z\"/>\n",
              "    </g>\n",
              "</svg>\n",
              "  </button>\n",
              "\n",
              "<style>\n",
              "  .colab-df-quickchart {\n",
              "      --bg-color: #E8F0FE;\n",
              "      --fill-color: #1967D2;\n",
              "      --hover-bg-color: #E2EBFA;\n",
              "      --hover-fill-color: #174EA6;\n",
              "      --disabled-fill-color: #AAA;\n",
              "      --disabled-bg-color: #DDD;\n",
              "  }\n",
              "\n",
              "  [theme=dark] .colab-df-quickchart {\n",
              "      --bg-color: #3B4455;\n",
              "      --fill-color: #D2E3FC;\n",
              "      --hover-bg-color: #434B5C;\n",
              "      --hover-fill-color: #FFFFFF;\n",
              "      --disabled-bg-color: #3B4455;\n",
              "      --disabled-fill-color: #666;\n",
              "  }\n",
              "\n",
              "  .colab-df-quickchart {\n",
              "    background-color: var(--bg-color);\n",
              "    border: none;\n",
              "    border-radius: 50%;\n",
              "    cursor: pointer;\n",
              "    display: none;\n",
              "    fill: var(--fill-color);\n",
              "    height: 32px;\n",
              "    padding: 0;\n",
              "    width: 32px;\n",
              "  }\n",
              "\n",
              "  .colab-df-quickchart:hover {\n",
              "    background-color: var(--hover-bg-color);\n",
              "    box-shadow: 0 1px 2px rgba(60, 64, 67, 0.3), 0 1px 3px 1px rgba(60, 64, 67, 0.15);\n",
              "    fill: var(--button-hover-fill-color);\n",
              "  }\n",
              "\n",
              "  .colab-df-quickchart-complete:disabled,\n",
              "  .colab-df-quickchart-complete:disabled:hover {\n",
              "    background-color: var(--disabled-bg-color);\n",
              "    fill: var(--disabled-fill-color);\n",
              "    box-shadow: none;\n",
              "  }\n",
              "\n",
              "  .colab-df-spinner {\n",
              "    border: 2px solid var(--fill-color);\n",
              "    border-color: transparent;\n",
              "    border-bottom-color: var(--fill-color);\n",
              "    animation:\n",
              "      spin 1s steps(1) infinite;\n",
              "  }\n",
              "\n",
              "  @keyframes spin {\n",
              "    0% {\n",
              "      border-color: transparent;\n",
              "      border-bottom-color: var(--fill-color);\n",
              "      border-left-color: var(--fill-color);\n",
              "    }\n",
              "    20% {\n",
              "      border-color: transparent;\n",
              "      border-left-color: var(--fill-color);\n",
              "      border-top-color: var(--fill-color);\n",
              "    }\n",
              "    30% {\n",
              "      border-color: transparent;\n",
              "      border-left-color: var(--fill-color);\n",
              "      border-top-color: var(--fill-color);\n",
              "      border-right-color: var(--fill-color);\n",
              "    }\n",
              "    40% {\n",
              "      border-color: transparent;\n",
              "      border-right-color: var(--fill-color);\n",
              "      border-top-color: var(--fill-color);\n",
              "    }\n",
              "    60% {\n",
              "      border-color: transparent;\n",
              "      border-right-color: var(--fill-color);\n",
              "    }\n",
              "    80% {\n",
              "      border-color: transparent;\n",
              "      border-right-color: var(--fill-color);\n",
              "      border-bottom-color: var(--fill-color);\n",
              "    }\n",
              "    90% {\n",
              "      border-color: transparent;\n",
              "      border-bottom-color: var(--fill-color);\n",
              "    }\n",
              "  }\n",
              "</style>\n",
              "\n",
              "  <script>\n",
              "    async function quickchart(key) {\n",
              "      const quickchartButtonEl =\n",
              "        document.querySelector('#' + key + ' button');\n",
              "      quickchartButtonEl.disabled = true;  // To prevent multiple clicks.\n",
              "      quickchartButtonEl.classList.add('colab-df-spinner');\n",
              "      try {\n",
              "        const charts = await google.colab.kernel.invokeFunction(\n",
              "            'suggestCharts', [key], {});\n",
              "      } catch (error) {\n",
              "        console.error('Error during call to suggestCharts:', error);\n",
              "      }\n",
              "      quickchartButtonEl.classList.remove('colab-df-spinner');\n",
              "      quickchartButtonEl.classList.add('colab-df-quickchart-complete');\n",
              "    }\n",
              "    (() => {\n",
              "      let quickchartButtonEl =\n",
              "        document.querySelector('#df-3dd3e5d6-7a48-47f9-883d-fec71fbfaf3b button');\n",
              "      quickchartButtonEl.style.display =\n",
              "        google.colab.kernel.accessAllowed ? 'block' : 'none';\n",
              "    })();\n",
              "  </script>\n",
              "</div>\n",
              "\n",
              "  <div id=\"id_a3d836bb-c129-4615-af9c-1fd971f80c8d\">\n",
              "    <style>\n",
              "      .colab-df-generate {\n",
              "        background-color: #E8F0FE;\n",
              "        border: none;\n",
              "        border-radius: 50%;\n",
              "        cursor: pointer;\n",
              "        display: none;\n",
              "        fill: #1967D2;\n",
              "        height: 32px;\n",
              "        padding: 0 0 0 0;\n",
              "        width: 32px;\n",
              "      }\n",
              "\n",
              "      .colab-df-generate:hover {\n",
              "        background-color: #E2EBFA;\n",
              "        box-shadow: 0px 1px 2px rgba(60, 64, 67, 0.3), 0px 1px 3px 1px rgba(60, 64, 67, 0.15);\n",
              "        fill: #174EA6;\n",
              "      }\n",
              "\n",
              "      [theme=dark] .colab-df-generate {\n",
              "        background-color: #3B4455;\n",
              "        fill: #D2E3FC;\n",
              "      }\n",
              "\n",
              "      [theme=dark] .colab-df-generate:hover {\n",
              "        background-color: #434B5C;\n",
              "        box-shadow: 0px 1px 3px 1px rgba(0, 0, 0, 0.15);\n",
              "        filter: drop-shadow(0px 1px 2px rgba(0, 0, 0, 0.3));\n",
              "        fill: #FFFFFF;\n",
              "      }\n",
              "    </style>\n",
              "    <button class=\"colab-df-generate\" onclick=\"generateWithVariable('df_train')\"\n",
              "            title=\"Generate code using this dataframe.\"\n",
              "            style=\"display:none;\">\n",
              "\n",
              "  <svg xmlns=\"http://www.w3.org/2000/svg\" height=\"24px\"viewBox=\"0 0 24 24\"\n",
              "       width=\"24px\">\n",
              "    <path d=\"M7,19H8.4L18.45,9,17,7.55,7,17.6ZM5,21V16.75L18.45,3.32a2,2,0,0,1,2.83,0l1.4,1.43a1.91,1.91,0,0,1,.58,1.4,1.91,1.91,0,0,1-.58,1.4L9.25,21ZM18.45,9,17,7.55Zm-12,3A5.31,5.31,0,0,0,4.9,8.1,5.31,5.31,0,0,0,1,6.5,5.31,5.31,0,0,0,4.9,4.9,5.31,5.31,0,0,0,6.5,1,5.31,5.31,0,0,0,8.1,4.9,5.31,5.31,0,0,0,12,6.5,5.46,5.46,0,0,0,6.5,12Z\"/>\n",
              "  </svg>\n",
              "    </button>\n",
              "    <script>\n",
              "      (() => {\n",
              "      const buttonEl =\n",
              "        document.querySelector('#id_a3d836bb-c129-4615-af9c-1fd971f80c8d button.colab-df-generate');\n",
              "      buttonEl.style.display =\n",
              "        google.colab.kernel.accessAllowed ? 'block' : 'none';\n",
              "\n",
              "      buttonEl.onclick = () => {\n",
              "        google.colab.notebook.generateWithVariable('df_train');\n",
              "      }\n",
              "      })();\n",
              "    </script>\n",
              "  </div>\n",
              "\n",
              "    </div>\n",
              "  </div>\n"
            ],
            "application/vnd.google.colaboratory.intrinsic+json": {
              "type": "dataframe",
              "variable_name": "df_train"
            }
          },
          "metadata": {},
          "execution_count": 13
        }
      ],
      "source": [
        "df_train"
      ]
    },
    {
      "cell_type": "code",
      "execution_count": null,
      "metadata": {
        "id": "gGzElsOleaDc"
      },
      "outputs": [],
      "source": [
        "train_reviews=[]\n",
        "val_reviews=[]\n",
        "test_reviews=[]\n",
        "for index,rows in df_train.iterrows():\n",
        "    train_reviews.append(Review(rows['text'],rows['broad_emotions']))\n",
        "\n",
        "for index,rows in df_val.iterrows():\n",
        "    val_reviews.append(Review(rows['text'],rows['broad_emotions']))\n",
        "\n",
        "for index,rows in df_test.iterrows():\n",
        "    test_reviews.append(Review(rows['text'],rows['broad_emotions']))"
      ]
    },
    {
      "cell_type": "code",
      "execution_count": null,
      "metadata": {
        "id": "3kt0jJpeep7U"
      },
      "outputs": [],
      "source": [
        "training_data=train_reviews\n",
        "validation_data=val_reviews\n",
        "testing_data=test_reviews"
      ]
    },
    {
      "cell_type": "code",
      "execution_count": null,
      "metadata": {
        "colab": {
          "base_uri": "https://localhost:8080/"
        },
        "id": "t8pYh_UZfMnM",
        "outputId": "46514443-418a-4d93-fdce-a969c16f17f3"
      },
      "outputs": [
        {
          "output_type": "stream",
          "name": "stdout",
          "text": [
            "[12932, 65961, 19817, 2373, 16685]\n",
            "[1629, 8271, 2468, 303, 2064]\n",
            "[1627, 8161, 2526, 283, 2128]\n",
            "283\n"
          ]
        }
      ],
      "source": [
        "train_container=Review_container(training_data)\n",
        "val_container=Review_container(validation_data)\n",
        "test_container=Review_container(testing_data)\n",
        "train_container.evenly_distributed()\n",
        "test_container.evenly_distributed()\n",
        "val_container.evenly_distributed()\n",
        "train_x=train_container.get_text()\n",
        "train_y=train_container.get_sentiment()\n",
        "test_x=test_container.get_text()\n",
        "test_y=test_container.get_sentiment()\n",
        "val_x=val_container.get_text()\n",
        "val_y=val_container.get_sentiment()\n",
        "print(val_y.count(Sentiment.sadness))"
      ]
    },
    {
      "cell_type": "code",
      "execution_count": null,
      "metadata": {
        "id": "f2xmtJjefO3h"
      },
      "outputs": [],
      "source": [
        "import nltk\n",
        "import pandas as pd\n",
        "import numpy as np\n",
        "import spacy\n",
        "from nltk.corpus import stopwords\n",
        "from nltk.stem import WordNetLemmatizer\n",
        "from sklearn.model_selection import train_test_split, cross_validate, StratifiedKFold\n",
        "from sklearn.pipeline import Pipeline\n",
        "from sklearn.feature_extraction.text import CountVectorizer, TfidfVectorizer\n",
        "from sklearn.naive_bayes import MultinomialNB, BernoulliNB\n",
        "from sklearn.metrics import accuracy_score, classification_report"
      ]
    },
    {
      "cell_type": "markdown",
      "metadata": {
        "id": "ngeRnQOIn13V"
      },
      "source": []
    },
    {
      "cell_type": "code",
      "execution_count": null,
      "metadata": {
        "colab": {
          "base_uri": "https://localhost:8080/"
        },
        "id": "yosqyszWiaqB",
        "outputId": "093f43ca-ccb8-46aa-da2d-10ba041ff962"
      },
      "outputs": [
        {
          "output_type": "stream",
          "name": "stderr",
          "text": [
            "[nltk_data] Downloading package punkt to /root/nltk_data...\n",
            "[nltk_data]   Unzipping tokenizers/punkt.zip.\n",
            "[nltk_data] Downloading package stopwords to /root/nltk_data...\n",
            "[nltk_data]   Unzipping corpora/stopwords.zip.\n"
          ]
        },
        {
          "output_type": "execute_result",
          "data": {
            "text/plain": [
              "True"
            ]
          },
          "metadata": {},
          "execution_count": 18
        }
      ],
      "source": [
        "# Download NLTK resources\n",
        "nltk.download('punkt')\n",
        "nltk.download('stopwords')"
      ]
    },
    {
      "cell_type": "code",
      "execution_count": null,
      "metadata": {
        "id": "r02ZJgx-if-L"
      },
      "outputs": [],
      "source": [
        "nlp = spacy.load(\"en_core_web_sm\", disable='ner')"
      ]
    },
    {
      "cell_type": "code",
      "execution_count": null,
      "metadata": {
        "id": "U7UjT6dziggs"
      },
      "outputs": [],
      "source": [
        "from tqdm import tqdm\n",
        "def preprocess_text(texts):\n",
        "    # lemmatize the tokens and store them in a list\n",
        "    processed_texts = []\n",
        "    for doc in tqdm(nlp.pipe(texts)):\n",
        "        lemmatized_tokens = [token.lemma_.lower() for token in doc if token.is_alpha and token.lemma_ not in nlp.Defaults.stop_words]\n",
        "\n",
        "        # Join the lemmatized tokens into a string\n",
        "        processed_text = \" \".join(lemmatized_tokens)\n",
        "\n",
        "        processed_texts.append(processed_text)\n",
        "\n",
        "    return processed_texts"
      ]
    },
    {
      "cell_type": "code",
      "execution_count": null,
      "metadata": {
        "colab": {
          "base_uri": "https://localhost:8080/"
        },
        "id": "j8D4we8uijUJ",
        "outputId": "2f76c990-17cc-4b7e-8ab3-a5961cd08234"
      },
      "outputs": [
        {
          "output_type": "stream",
          "name": "stderr",
          "text": [
            "11865it [00:17, 662.91it/s]\n",
            "1515it [00:01, 816.55it/s]\n",
            "1415it [00:01, 812.27it/s]\n"
          ]
        }
      ],
      "source": [
        "train_x = preprocess_text(train_x)\n",
        "test_x= preprocess_text(test_x)\n",
        "val_x=preprocess_text(val_x)"
      ]
    },
    {
      "cell_type": "code",
      "execution_count": null,
      "metadata": {
        "id": "9xBxMwVxipM7"
      },
      "outputs": [],
      "source": [
        "from sklearn.feature_extraction.text import CountVectorizer\n",
        "vectorizer = CountVectorizer()\n",
        "train_x_vectors= vectorizer.fit_transform(train_x)\n",
        "test_x_vectors=vectorizer.transform(test_x)\n",
        "val_x_vectors=vectorizer.transform(val_x)"
      ]
    },
    {
      "cell_type": "code",
      "execution_count": null,
      "metadata": {
        "id": "7QNMMOLYi-W5"
      },
      "outputs": [],
      "source": [
        "from sklearn.feature_extraction.text import TfidfVectorizer\n",
        "tfidf_vectorizer = TfidfVectorizer(min_df=0.001)\n",
        "train_x_vectors_tf_idf=tfidf_vectorizer.fit_transform(train_x)\n",
        "test_x_vectors_tf_idf=tfidf_vectorizer.transform(test_x)\n",
        "val_x_vectors_tf_idf=tfidf_vectorizer.transform(val_x)"
      ]
    },
    {
      "cell_type": "code",
      "execution_count": null,
      "metadata": {
        "colab": {
          "base_uri": "https://localhost:8080/"
        },
        "id": "QAVkYfGyjNyN",
        "outputId": "c1fda3e4-6f20-41c2-e672-6b80f8de6c1f"
      },
      "outputs": [
        {
          "output_type": "stream",
          "name": "stdout",
          "text": [
            "904\n"
          ]
        }
      ],
      "source": [
        "print(len(tfidf_vectorizer.get_feature_names_out()))"
      ]
    },
    {
      "cell_type": "code",
      "execution_count": null,
      "metadata": {
        "id": "2istvMSvjeaT"
      },
      "outputs": [],
      "source": [
        "tfidf_ngram_vectorizer = TfidfVectorizer(min_df=0.001, ngram_range=(1, 4))\n",
        "train_x_vectors_tf_idf_ngram=tfidf_ngram_vectorizer.fit_transform(train_x)\n",
        "test_x_vectors_tf_idf_ngram=tfidf_ngram_vectorizer.transform(test_x)\n",
        "val_x_vectors_tf_idf_ngram=tfidf_ngram_vectorizer.transform(val_x)"
      ]
    },
    {
      "cell_type": "code",
      "execution_count": null,
      "metadata": {
        "colab": {
          "base_uri": "https://localhost:8080/"
        },
        "id": "CT9wm-mxkFJs",
        "outputId": "502c84ef-daa9-4150-b72f-50741bc2941d"
      },
      "outputs": [
        {
          "output_type": "stream",
          "name": "stdout",
          "text": [
            "932\n"
          ]
        }
      ],
      "source": [
        "print(len(tfidf_ngram_vectorizer.get_feature_names_out()))\n"
      ]
    },
    {
      "cell_type": "code",
      "execution_count": null,
      "metadata": {
        "colab": {
          "base_uri": "https://localhost:8080/"
        },
        "id": "LRxKoQkFkI8p",
        "outputId": "2cdf5f80-5f5c-4f7e-dd5d-b6b9949f774f"
      },
      "outputs": [
        {
          "output_type": "execute_result",
          "data": {
            "text/plain": [
              "0.299009900990099"
            ]
          },
          "metadata": {},
          "execution_count": 27
        }
      ],
      "source": [
        "from sklearn.naive_bayes import GaussianNB\n",
        "gnb1=GaussianNB()\n",
        "\n",
        "gnb1.fit(train_x_vectors.toarray(),train_y)\n",
        "gnb1.score(test_x_vectors.toarray(),test_y)\n"
      ]
    },
    {
      "cell_type": "code",
      "execution_count": null,
      "metadata": {
        "colab": {
          "base_uri": "https://localhost:8080/"
        },
        "id": "g6J5fYefkU3E",
        "outputId": "7ee73e45-0a1c-433d-ae35-d9c3d2e66501"
      },
      "outputs": [
        {
          "output_type": "execute_result",
          "data": {
            "text/plain": [
              "0.366996699669967"
            ]
          },
          "metadata": {},
          "execution_count": 28
        }
      ],
      "source": [
        "from sklearn.naive_bayes import GaussianNB\n",
        "gnb2=GaussianNB()\n",
        "\n",
        "gnb2.fit(train_x_vectors_tf_idf.toarray(),train_y)\n",
        "gnb2.score(test_x_vectors_tf_idf.toarray(),test_y)"
      ]
    },
    {
      "cell_type": "code",
      "execution_count": null,
      "metadata": {
        "colab": {
          "base_uri": "https://localhost:8080/"
        },
        "id": "l64YHauhkXhu",
        "outputId": "195c9380-5011-4542-edd6-e55795d47444"
      },
      "outputs": [
        {
          "output_type": "execute_result",
          "data": {
            "text/plain": [
              "0.36237623762376237"
            ]
          },
          "metadata": {},
          "execution_count": 29
        }
      ],
      "source": [
        "from sklearn.naive_bayes import GaussianNB\n",
        "gnb3=GaussianNB()\n",
        "\n",
        "gnb3.fit(train_x_vectors_tf_idf_ngram.toarray(),train_y)\n",
        "gnb3.score(test_x_vectors_tf_idf_ngram.toarray(),test_y)"
      ]
    },
    {
      "cell_type": "code",
      "execution_count": null,
      "metadata": {
        "colab": {
          "base_uri": "https://localhost:8080/"
        },
        "id": "xUGteXi1kZoQ",
        "outputId": "dfac7abf-48f3-49f7-d4a4-d31dbee401ad"
      },
      "outputs": [
        {
          "output_type": "execute_result",
          "data": {
            "text/plain": [
              "0.533993399339934"
            ]
          },
          "metadata": {},
          "execution_count": 30
        }
      ],
      "source": [
        "from sklearn.linear_model import LogisticRegression\n",
        "lr1=LogisticRegression(multi_class='multinomial',max_iter=200)\n",
        "lr1.fit(train_x_vectors,train_y)\n",
        "lr1.score(test_x_vectors,test_y)"
      ]
    },
    {
      "cell_type": "code",
      "execution_count": null,
      "metadata": {
        "colab": {
          "base_uri": "https://localhost:8080/"
        },
        "id": "JCYgq8KJklQr",
        "outputId": "405c77e8-ff5d-407a-a726-f1c08fe71274"
      },
      "outputs": [
        {
          "output_type": "execute_result",
          "data": {
            "text/plain": [
              "0.49174917491749176"
            ]
          },
          "metadata": {},
          "execution_count": 31
        }
      ],
      "source": [
        "from sklearn.linear_model import LogisticRegression\n",
        "lr2=LogisticRegression(multi_class='multinomial',max_iter=200)\n",
        "lr2.fit(train_x_vectors_tf_idf,train_y)\n",
        "lr2.score(test_x_vectors_tf_idf,test_y)"
      ]
    },
    {
      "cell_type": "code",
      "execution_count": null,
      "metadata": {
        "colab": {
          "base_uri": "https://localhost:8080/"
        },
        "id": "Qt6ncGQOknjG",
        "outputId": "4bd02696-d56f-4e26-ebf0-e64bd784cf42"
      },
      "outputs": [
        {
          "output_type": "execute_result",
          "data": {
            "text/plain": [
              "0.4877887788778878"
            ]
          },
          "metadata": {},
          "execution_count": 32
        }
      ],
      "source": [
        "from sklearn.linear_model import LogisticRegression\n",
        "lr3=LogisticRegression(multi_class='multinomial',max_iter=200)\n",
        "lr3.fit(train_x_vectors_tf_idf_ngram,train_y)\n",
        "lr3.score(test_x_vectors_tf_idf_ngram,test_y)"
      ]
    },
    {
      "cell_type": "code",
      "execution_count": null,
      "metadata": {
        "colab": {
          "base_uri": "https://localhost:8080/"
        },
        "id": "XP7twYzzkqYs",
        "outputId": "acb3e83d-fade-40cd-927b-1de92713173d"
      },
      "outputs": [
        {
          "output_type": "stream",
          "name": "stdout",
          "text": [
            "Random Forest Accuracy: 0.5267\n"
          ]
        }
      ],
      "source": [
        "from sklearn.ensemble import RandomForestClassifier\n",
        "\n",
        "rf = RandomForestClassifier(n_estimators=100, random_state=42)\n",
        "rf.fit(train_x_vectors, train_y)\n",
        "rf_score = rf.score(test_x_vectors, test_y)\n",
        "print(f\"Random Forest Accuracy: {rf_score:.4f}\")\n"
      ]
    },
    {
      "cell_type": "code",
      "execution_count": null,
      "metadata": {
        "colab": {
          "base_uri": "https://localhost:8080/"
        },
        "id": "WnMXx26hk_G0",
        "outputId": "c3e2c39c-f3e5-4de8-c4f3-fcc09127c1c7"
      },
      "outputs": [
        {
          "output_type": "stream",
          "name": "stdout",
          "text": [
            "Random Forest Accuracy: 0.4944\n"
          ]
        }
      ],
      "source": [
        "from sklearn.ensemble import RandomForestClassifier\n",
        "\n",
        "rf2 = RandomForestClassifier(n_estimators=100, random_state=42)\n",
        "rf2.fit(train_x_vectors_tf_idf, train_y)\n",
        "rf_score2 = rf2.score(test_x_vectors_tf_idf, test_y)\n",
        "print(f\"Random Forest Accuracy: {rf_score2:.4f}\")"
      ]
    },
    {
      "cell_type": "code",
      "execution_count": null,
      "metadata": {
        "colab": {
          "base_uri": "https://localhost:8080/"
        },
        "id": "xIuDAHIOlPle",
        "outputId": "730c19c4-1c0b-4a5b-929b-542dc4e5809b"
      },
      "outputs": [
        {
          "output_type": "stream",
          "name": "stdout",
          "text": [
            "Random Forest Accuracy: 0.4944\n"
          ]
        }
      ],
      "source": [
        "from sklearn.ensemble import RandomForestClassifier\n",
        "\n",
        "rf3 = RandomForestClassifier(n_estimators=100, random_state=42)\n",
        "rf3.fit(train_x_vectors_tf_idf, train_y)\n",
        "rf_score3 = rf3.score(test_x_vectors_tf_idf, test_y)\n",
        "print(f\"Random Forest Accuracy: {rf_score3:.4f}\")"
      ]
    },
    {
      "cell_type": "code",
      "execution_count": null,
      "metadata": {
        "id": "H5eYeIsElttH"
      },
      "outputs": [],
      "source": [
        "import torch\n",
        "import torch.nn as nn\n",
        "import torch.optim as optimizer"
      ]
    },
    {
      "cell_type": "code",
      "execution_count": null,
      "metadata": {
        "id": "Lojb0KZ6l6yU"
      },
      "outputs": [],
      "source": [
        "class FCN(nn.Module):\n",
        "    def __init__(self,input_size,hidden_size,output_size,dropout_rate):\n",
        "        super(FCN,self).__init__()\n",
        "        self.input_size=input_size\n",
        "        self.hidden_size=hidden_size\n",
        "        self.output_size=output_size\n",
        "        self.dropout_rate=dropout_rate\n",
        "        self.fc1=nn.Linear(input_size,hidden_size)\n",
        "        self.relu=nn.ReLU()\n",
        "        self.dropout = nn.Dropout(dropout_rate)\n",
        "        self.fc2=nn.Linear(hidden_size,output_size)\n",
        "        # self.sigmoid=nn.Sigmoid()\n",
        "        # self.softmax=nn.Softmax(dim=1)\n",
        "\n",
        "    def forward(self,x):\n",
        "        out=self.fc1(x)\n",
        "        out=self.relu(out)\n",
        "        out=self.dropout(out)\n",
        "        out=self.fc2(out)\n",
        "        # out=self.softmax(out)\n",
        "\n",
        "        return out"
      ]
    },
    {
      "cell_type": "code",
      "execution_count": null,
      "metadata": {
        "id": "rIRae5lll-Zq"
      },
      "outputs": [],
      "source": [
        "model=FCN(input_size=train_x_vectors.shape[1],hidden_size=64,output_size=5,dropout_rate=0.2)\n",
        "# model1=SentimentRNN(input_size=train_x_vectors.shape[1],hidden_size=64,output_size=5,num_layers=3)\n",
        "criterion=nn.CrossEntropyLoss()\n",
        "optim=optimizer.Adam(model.parameters(),lr=0.001)"
      ]
    },
    {
      "cell_type": "code",
      "execution_count": null,
      "metadata": {
        "id": "x87vXnILmHV6"
      },
      "outputs": [],
      "source": [
        "from torch.utils.data import TensorDataset,DataLoader,Dataset"
      ]
    },
    {
      "cell_type": "code",
      "execution_count": null,
      "metadata": {
        "id": "qP4UIA1nmJO6"
      },
      "outputs": [],
      "source": [
        "class customdataset(Dataset):\n",
        "    def __init__(self,text,label):\n",
        "        self.text=text\n",
        "        self.label=label\n",
        "\n",
        "    def __len__(self):\n",
        "        return len(self.text)\n",
        "\n",
        "    def __getitem__(self,idx):\n",
        "        text=self.text[idx]\n",
        "        label=self.label[idx]\n",
        "\n",
        "        return text,label\n",
        "\n",
        "\n"
      ]
    },
    {
      "cell_type": "code",
      "execution_count": null,
      "metadata": {
        "id": "NuWhvxulmL5E"
      },
      "outputs": [],
      "source": [
        "features_train = torch.tensor(train_x_vectors.toarray(), dtype=torch.float32)\n",
        "features_validation = torch.tensor(val_x_vectors.toarray(), dtype=torch.float32)\n",
        "encoding={\"sadness\":0,\"joy\":1,\"surprise\":2,\"anger\":3,\"fear\":4}\n",
        "train_y_encoded=[encoding[label] for label in train_y]\n",
        "val_y_encoded=[encoding[label] for label in val_y]\n",
        "test_y_encoded=[encoding[label] for label in test_y]\n",
        "y_train = torch.tensor(train_y_encoded,dtype=torch.long)\n",
        "y_validation = torch.tensor(val_y_encoded,dtype=torch.long)\n",
        "train_tensor_dataset=TensorDataset(features_train,y_train)\n",
        "val_tensor_dataset=TensorDataset(features_validation,y_validation)"
      ]
    },
    {
      "cell_type": "code",
      "execution_count": null,
      "metadata": {
        "id": "mAAiggcZmOLe"
      },
      "outputs": [],
      "source": [
        "train_dataloader=DataLoader(train_tensor_dataset,batch_size=32,shuffle=True)\n",
        "val_dataloader=DataLoader(val_tensor_dataset,batch_size=32,shuffle=True)\n"
      ]
    },
    {
      "cell_type": "code",
      "execution_count": null,
      "metadata": {
        "colab": {
          "base_uri": "https://localhost:8080/"
        },
        "id": "9eO2w6XTmQRb",
        "outputId": "3c554ed6-9087-47a4-f1ba-61b149ed81c1"
      },
      "outputs": [
        {
          "output_type": "stream",
          "name": "stderr",
          "text": [
            "100%|██████████| 371/371 [00:04<00:00, 92.26it/s] \n",
            "100%|██████████| 45/45 [00:00<00:00, 431.00it/s]\n"
          ]
        },
        {
          "output_type": "stream",
          "name": "stdout",
          "text": [
            "epoch== 1 train_loss 1.4411287034618243 val_loss 1.238190934393141 val_acc: 768 1415 54.2756183745583\n"
          ]
        },
        {
          "output_type": "stream",
          "name": "stderr",
          "text": [
            "100%|██████████| 371/371 [00:02<00:00, 141.35it/s]\n",
            "100%|██████████| 45/45 [00:00<00:00, 417.03it/s]\n"
          ]
        },
        {
          "output_type": "stream",
          "name": "stdout",
          "text": [
            "epoch== 2 train_loss 1.0388600908199732 val_loss 1.2133771379788716 val_acc: 763 1415 53.92226148409895\n"
          ]
        },
        {
          "output_type": "stream",
          "name": "stderr",
          "text": [
            "100%|██████████| 371/371 [00:03<00:00, 108.95it/s]\n",
            "100%|██████████| 45/45 [00:00<00:00, 467.03it/s]\n"
          ]
        },
        {
          "output_type": "stream",
          "name": "stdout",
          "text": [
            "epoch== 3 train_loss 0.7991932057788108 val_loss 1.2992275185055202 val_acc: 754 1415 53.28621908127208\n"
          ]
        },
        {
          "output_type": "stream",
          "name": "stderr",
          "text": [
            "100%|██████████| 371/371 [00:04<00:00, 75.59it/s]\n",
            "100%|██████████| 45/45 [00:00<00:00, 449.96it/s]\n"
          ]
        },
        {
          "output_type": "stream",
          "name": "stdout",
          "text": [
            "epoch== 4 train_loss 0.648667738162925 val_loss 1.3864506430096097 val_acc: 747 1415 52.791519434628974\n"
          ]
        },
        {
          "output_type": "stream",
          "name": "stderr",
          "text": [
            "100%|██████████| 371/371 [00:05<00:00, 62.68it/s]\n",
            "100%|██████████| 45/45 [00:00<00:00, 136.60it/s]\n"
          ]
        },
        {
          "output_type": "stream",
          "name": "stdout",
          "text": [
            "epoch== 5 train_loss 0.5481015707283329 val_loss 1.5088619854715135 val_acc: 735 1415 51.9434628975265\n"
          ]
        },
        {
          "output_type": "stream",
          "name": "stderr",
          "text": [
            "100%|██████████| 371/371 [00:08<00:00, 44.31it/s]\n",
            "100%|██████████| 45/45 [00:00<00:00, 458.21it/s]\n"
          ]
        },
        {
          "output_type": "stream",
          "name": "stdout",
          "text": [
            "epoch== 6 train_loss 0.4789111121806173 val_loss 1.5994624614715576 val_acc: 730 1415 51.590106007067135\n"
          ]
        },
        {
          "output_type": "stream",
          "name": "stderr",
          "text": [
            "100%|██████████| 371/371 [00:06<00:00, 59.07it/s]\n",
            "100%|██████████| 45/45 [00:00<00:00, 323.66it/s]\n"
          ]
        },
        {
          "output_type": "stream",
          "name": "stdout",
          "text": [
            "epoch== 7 train_loss 0.4283671579511982 val_loss 1.6813602738910252 val_acc: 724 1415 51.1660777385159\n"
          ]
        },
        {
          "output_type": "stream",
          "name": "stderr",
          "text": [
            "100%|██████████| 371/371 [00:06<00:00, 57.72it/s]\n",
            "100%|██████████| 45/45 [00:00<00:00, 434.96it/s]\n"
          ]
        },
        {
          "output_type": "stream",
          "name": "stdout",
          "text": [
            "epoch== 8 train_loss 0.39471152139641846 val_loss 1.795471645726098 val_acc: 705 1415 49.82332155477032\n"
          ]
        },
        {
          "output_type": "stream",
          "name": "stderr",
          "text": [
            "100%|██████████| 371/371 [00:06<00:00, 60.55it/s]\n",
            "100%|██████████| 45/45 [00:00<00:00, 320.65it/s]\n"
          ]
        },
        {
          "output_type": "stream",
          "name": "stdout",
          "text": [
            "epoch== 9 train_loss 0.3648050210144963 val_loss 1.878424518638187 val_acc: 696 1415 49.187279151943464\n"
          ]
        },
        {
          "output_type": "stream",
          "name": "stderr",
          "text": [
            "100%|██████████| 371/371 [00:06<00:00, 53.94it/s]\n",
            "100%|██████████| 45/45 [00:00<00:00, 175.62it/s]\n"
          ]
        },
        {
          "output_type": "stream",
          "name": "stdout",
          "text": [
            "epoch== 10 train_loss 0.34223130755026065 val_loss 1.949102567301856 val_acc: 700 1415 49.46996466431096\n"
          ]
        },
        {
          "output_type": "stream",
          "name": "stderr",
          "text": [
            "100%|██████████| 371/371 [00:05<00:00, 62.55it/s]\n",
            "100%|██████████| 45/45 [00:00<00:00, 415.72it/s]\n"
          ]
        },
        {
          "output_type": "stream",
          "name": "stdout",
          "text": [
            "epoch== 11 train_loss 0.3257883816073847 val_loss 2.06083181169298 val_acc: 690 1415 48.76325088339223\n"
          ]
        },
        {
          "output_type": "stream",
          "name": "stderr",
          "text": [
            "100%|██████████| 371/371 [00:06<00:00, 53.63it/s]\n",
            "100%|██████████| 45/45 [00:00<00:00, 148.81it/s]\n"
          ]
        },
        {
          "output_type": "stream",
          "name": "stdout",
          "text": [
            "epoch== 12 train_loss 0.3102167761631089 val_loss 2.1366356823179458 val_acc: 691 1415 48.8339222614841\n"
          ]
        },
        {
          "output_type": "stream",
          "name": "stderr",
          "text": [
            "100%|██████████| 371/371 [00:08<00:00, 43.86it/s]\n",
            "100%|██████████| 45/45 [00:00<00:00, 173.03it/s]\n"
          ]
        },
        {
          "output_type": "stream",
          "name": "stdout",
          "text": [
            "epoch== 13 train_loss 0.29792023794549816 val_loss 2.2176100280549793 val_acc: 677 1415 47.84452296819788\n"
          ]
        },
        {
          "output_type": "stream",
          "name": "stderr",
          "text": [
            "100%|██████████| 371/371 [00:06<00:00, 61.78it/s]\n",
            "100%|██████████| 45/45 [00:00<00:00, 431.15it/s]\n"
          ]
        },
        {
          "output_type": "stream",
          "name": "stdout",
          "text": [
            "epoch== 14 train_loss 0.2839237798176043 val_loss 2.2966963794496325 val_acc: 676 1415 47.773851590106005\n"
          ]
        },
        {
          "output_type": "stream",
          "name": "stderr",
          "text": [
            "100%|██████████| 371/371 [00:04<00:00, 74.40it/s]\n",
            "100%|██████████| 45/45 [00:00<00:00, 461.65it/s]\n"
          ]
        },
        {
          "output_type": "stream",
          "name": "stdout",
          "text": [
            "epoch== 15 train_loss 0.27328521706103637 val_loss 2.393894690937466 val_acc: 676 1415 47.773851590106005\n"
          ]
        },
        {
          "output_type": "stream",
          "name": "stderr",
          "text": [
            "100%|██████████| 371/371 [00:05<00:00, 71.33it/s]\n",
            "100%|██████████| 45/45 [00:00<00:00, 324.50it/s]\n"
          ]
        },
        {
          "output_type": "stream",
          "name": "stdout",
          "text": [
            "epoch== 16 train_loss 0.26327603550331613 val_loss 2.48973056740231 val_acc: 667 1415 47.13780918727915\n"
          ]
        },
        {
          "output_type": "stream",
          "name": "stderr",
          "text": [
            "100%|██████████| 371/371 [00:05<00:00, 69.16it/s]\n",
            "100%|██████████| 45/45 [00:00<00:00, 466.88it/s]\n"
          ]
        },
        {
          "output_type": "stream",
          "name": "stdout",
          "text": [
            "epoch== 17 train_loss 0.25817206166584217 val_loss 2.5202191909154257 val_acc: 669 1415 47.2791519434629\n"
          ]
        },
        {
          "output_type": "stream",
          "name": "stderr",
          "text": [
            "100%|██████████| 371/371 [00:04<00:00, 74.30it/s]\n",
            "100%|██████████| 45/45 [00:00<00:00, 479.88it/s]\n"
          ]
        },
        {
          "output_type": "stream",
          "name": "stdout",
          "text": [
            "epoch== 18 train_loss 0.24687354744605297 val_loss 2.5880059056811864 val_acc: 666 1415 47.06713780918728\n"
          ]
        },
        {
          "output_type": "stream",
          "name": "stderr",
          "text": [
            "100%|██████████| 371/371 [00:08<00:00, 44.22it/s]\n",
            "100%|██████████| 45/45 [00:00<00:00, 315.74it/s]\n"
          ]
        },
        {
          "output_type": "stream",
          "name": "stdout",
          "text": [
            "epoch== 19 train_loss 0.24380911174769992 val_loss 2.6939564148585 val_acc: 672 1415 47.49116607773852\n"
          ]
        },
        {
          "output_type": "stream",
          "name": "stderr",
          "text": [
            "100%|██████████| 371/371 [00:06<00:00, 58.46it/s]\n",
            "100%|██████████| 45/45 [00:00<00:00, 344.14it/s]\n"
          ]
        },
        {
          "output_type": "stream",
          "name": "stdout",
          "text": [
            "epoch== 20 train_loss 0.23508904791986845 val_loss 2.7396587954627143 val_acc: 681 1415 48.12720848056537\n"
          ]
        },
        {
          "output_type": "stream",
          "name": "stderr",
          "text": [
            "100%|██████████| 371/371 [00:05<00:00, 64.74it/s]\n",
            "100%|██████████| 45/45 [00:00<00:00, 449.26it/s]\n"
          ]
        },
        {
          "output_type": "stream",
          "name": "stdout",
          "text": [
            "epoch== 21 train_loss 0.2305541385838767 val_loss 2.7650640712844 val_acc: 683 1415 48.26855123674912\n"
          ]
        },
        {
          "output_type": "stream",
          "name": "stderr",
          "text": [
            "100%|██████████| 371/371 [00:04<00:00, 74.26it/s]\n",
            "100%|██████████| 45/45 [00:00<00:00, 461.78it/s]\n"
          ]
        },
        {
          "output_type": "stream",
          "name": "stdout",
          "text": [
            "epoch== 22 train_loss 0.22465377023840208 val_loss 2.8768347051408556 val_acc: 670 1415 47.349823321554766\n"
          ]
        },
        {
          "output_type": "stream",
          "name": "stderr",
          "text": [
            "100%|██████████| 371/371 [00:05<00:00, 63.71it/s]\n",
            "100%|██████████| 45/45 [00:00<00:00, 401.54it/s]\n"
          ]
        },
        {
          "output_type": "stream",
          "name": "stdout",
          "text": [
            "epoch== 23 train_loss 0.22239645086530083 val_loss 2.937778271569146 val_acc: 661 1415 46.71378091872791\n"
          ]
        },
        {
          "output_type": "stream",
          "name": "stderr",
          "text": [
            "100%|██████████| 371/371 [00:05<00:00, 72.89it/s]\n",
            "100%|██████████| 45/45 [00:00<00:00, 456.66it/s]\n"
          ]
        },
        {
          "output_type": "stream",
          "name": "stdout",
          "text": [
            "epoch== 24 train_loss 0.21824927485957138 val_loss 3.0437121444278294 val_acc: 665 1415 46.996466431095406\n"
          ]
        },
        {
          "output_type": "stream",
          "name": "stderr",
          "text": [
            "100%|██████████| 371/371 [00:05<00:00, 69.59it/s]\n",
            "100%|██████████| 45/45 [00:00<00:00, 368.51it/s]\n"
          ]
        },
        {
          "output_type": "stream",
          "name": "stdout",
          "text": [
            "epoch== 25 train_loss 0.21165319011519057 val_loss 3.0617079549365576 val_acc: 669 1415 47.2791519434629\n"
          ]
        },
        {
          "output_type": "stream",
          "name": "stderr",
          "text": [
            "100%|██████████| 371/371 [00:05<00:00, 67.27it/s]\n",
            "100%|██████████| 45/45 [00:00<00:00, 467.19it/s]\n"
          ]
        },
        {
          "output_type": "stream",
          "name": "stdout",
          "text": [
            "epoch== 26 train_loss 0.2088108100900753 val_loss 3.1489978790283204 val_acc: 667 1415 47.13780918727915\n"
          ]
        },
        {
          "output_type": "stream",
          "name": "stderr",
          "text": [
            "100%|██████████| 371/371 [00:05<00:00, 72.76it/s]\n",
            "100%|██████████| 45/45 [00:00<00:00, 454.85it/s]\n"
          ]
        },
        {
          "output_type": "stream",
          "name": "stdout",
          "text": [
            "epoch== 27 train_loss 0.20838582749676832 val_loss 3.2041903919643824 val_acc: 669 1415 47.2791519434629\n"
          ]
        },
        {
          "output_type": "stream",
          "name": "stderr",
          "text": [
            "100%|██████████| 371/371 [00:05<00:00, 65.37it/s]\n",
            "100%|██████████| 45/45 [00:00<00:00, 468.99it/s]\n"
          ]
        },
        {
          "output_type": "stream",
          "name": "stdout",
          "text": [
            "epoch== 28 train_loss 0.20330960878404486 val_loss 3.2033032894134523 val_acc: 663 1415 46.85512367491166\n"
          ]
        },
        {
          "output_type": "stream",
          "name": "stderr",
          "text": [
            "100%|██████████| 371/371 [00:05<00:00, 71.85it/s]\n",
            "100%|██████████| 45/45 [00:00<00:00, 469.57it/s]\n"
          ]
        },
        {
          "output_type": "stream",
          "name": "stdout",
          "text": [
            "epoch== 29 train_loss 0.19873401171444963 val_loss 3.2749359316296047 val_acc: 662 1415 46.78445229681979\n"
          ]
        },
        {
          "output_type": "stream",
          "name": "stderr",
          "text": [
            "100%|██████████| 371/371 [00:05<00:00, 66.71it/s]\n",
            "100%|██████████| 45/45 [00:00<00:00, 359.24it/s]\n"
          ]
        },
        {
          "output_type": "stream",
          "name": "stdout",
          "text": [
            "epoch== 30 train_loss 0.19718070712814112 val_loss 3.3157385190327964 val_acc: 662 1415 46.78445229681979\n"
          ]
        },
        {
          "output_type": "stream",
          "name": "stderr",
          "text": [
            "100%|██████████| 371/371 [00:05<00:00, 70.48it/s]\n",
            "100%|██████████| 45/45 [00:00<00:00, 459.81it/s]\n"
          ]
        },
        {
          "output_type": "stream",
          "name": "stdout",
          "text": [
            "epoch== 31 train_loss 0.1939396047889383 val_loss 3.3780081907908124 val_acc: 653 1415 46.148409893992934\n"
          ]
        },
        {
          "output_type": "stream",
          "name": "stderr",
          "text": [
            "100%|██████████| 371/371 [00:05<00:00, 64.72it/s]\n",
            "100%|██████████| 45/45 [00:00<00:00, 315.40it/s]\n"
          ]
        },
        {
          "output_type": "stream",
          "name": "stdout",
          "text": [
            "epoch== 32 train_loss 0.19202897599283256 val_loss 3.38751796219084 val_acc: 660 1415 46.64310954063604\n"
          ]
        },
        {
          "output_type": "stream",
          "name": "stderr",
          "text": [
            "100%|██████████| 371/371 [00:05<00:00, 63.53it/s]\n",
            "100%|██████████| 45/45 [00:00<00:00, 464.46it/s]\n"
          ]
        },
        {
          "output_type": "stream",
          "name": "stdout",
          "text": [
            "epoch== 33 train_loss 0.1869704336570601 val_loss 3.495637027422587 val_acc: 668 1415 47.208480565371026\n"
          ]
        },
        {
          "output_type": "stream",
          "name": "stderr",
          "text": [
            "100%|██████████| 371/371 [00:05<00:00, 70.55it/s]\n",
            "100%|██████████| 45/45 [00:00<00:00, 414.47it/s]\n"
          ]
        },
        {
          "output_type": "stream",
          "name": "stdout",
          "text": [
            "epoch== 34 train_loss 0.1855100870252941 val_loss 3.546700519985623 val_acc: 656 1415 46.36042402826855\n"
          ]
        },
        {
          "output_type": "stream",
          "name": "stderr",
          "text": [
            "100%|██████████| 371/371 [00:05<00:00, 64.92it/s]\n",
            "100%|██████████| 45/45 [00:00<00:00, 403.28it/s]\n"
          ]
        },
        {
          "output_type": "stream",
          "name": "stdout",
          "text": [
            "epoch== 35 train_loss 0.18392240473212337 val_loss 3.654665390650431 val_acc: 657 1415 46.43109540636042\n"
          ]
        },
        {
          "output_type": "stream",
          "name": "stderr",
          "text": [
            "100%|██████████| 371/371 [00:05<00:00, 69.04it/s]\n",
            "100%|██████████| 45/45 [00:00<00:00, 412.83it/s]\n"
          ]
        },
        {
          "output_type": "stream",
          "name": "stdout",
          "text": [
            "epoch== 36 train_loss 0.1841173613885784 val_loss 3.6883406665590073 val_acc: 657 1415 46.43109540636042\n"
          ]
        },
        {
          "output_type": "stream",
          "name": "stderr",
          "text": [
            "100%|██████████| 371/371 [00:07<00:00, 52.33it/s]\n",
            "100%|██████████| 45/45 [00:00<00:00, 434.46it/s]\n"
          ]
        },
        {
          "output_type": "stream",
          "name": "stdout",
          "text": [
            "epoch== 37 train_loss 0.1803129097908695 val_loss 3.6953029685550267 val_acc: 662 1415 46.78445229681979\n"
          ]
        },
        {
          "output_type": "stream",
          "name": "stderr",
          "text": [
            "100%|██████████| 371/371 [00:05<00:00, 70.32it/s]\n",
            "100%|██████████| 45/45 [00:00<00:00, 393.24it/s]\n"
          ]
        },
        {
          "output_type": "stream",
          "name": "stdout",
          "text": [
            "epoch== 38 train_loss 0.1767171434330129 val_loss 3.7206076516045465 val_acc: 655 1415 46.28975265017668\n"
          ]
        },
        {
          "output_type": "stream",
          "name": "stderr",
          "text": [
            "100%|██████████| 371/371 [00:05<00:00, 69.20it/s]\n",
            "100%|██████████| 45/45 [00:00<00:00, 325.00it/s]\n"
          ]
        },
        {
          "output_type": "stream",
          "name": "stdout",
          "text": [
            "epoch== 39 train_loss 0.17675407240393187 val_loss 3.806675476498074 val_acc: 658 1415 46.5017667844523\n"
          ]
        },
        {
          "output_type": "stream",
          "name": "stderr",
          "text": [
            "100%|██████████| 371/371 [00:05<00:00, 67.04it/s]\n",
            "100%|██████████| 45/45 [00:00<00:00, 407.76it/s]\n"
          ]
        },
        {
          "output_type": "stream",
          "name": "stdout",
          "text": [
            "epoch== 40 train_loss 0.17576116772815384 val_loss 3.8310340775383844 val_acc: 664 1415 46.92579505300353\n"
          ]
        },
        {
          "output_type": "stream",
          "name": "stderr",
          "text": [
            "100%|██████████| 371/371 [00:05<00:00, 72.68it/s]\n",
            "100%|██████████| 45/45 [00:00<00:00, 389.79it/s]\n"
          ]
        },
        {
          "output_type": "stream",
          "name": "stdout",
          "text": [
            "epoch== 41 train_loss 0.1738240389439536 val_loss 3.9556885030534534 val_acc: 658 1415 46.5017667844523\n"
          ]
        },
        {
          "output_type": "stream",
          "name": "stderr",
          "text": [
            "100%|██████████| 371/371 [00:05<00:00, 65.36it/s]\n",
            "100%|██████████| 45/45 [00:00<00:00, 452.82it/s]\n"
          ]
        },
        {
          "output_type": "stream",
          "name": "stdout",
          "text": [
            "epoch== 42 train_loss 0.17607150390001158 val_loss 3.936376937230428 val_acc: 653 1415 46.148409893992934\n"
          ]
        },
        {
          "output_type": "stream",
          "name": "stderr",
          "text": [
            "100%|██████████| 371/371 [00:05<00:00, 73.90it/s]\n",
            "100%|██████████| 45/45 [00:00<00:00, 481.69it/s]\n"
          ]
        },
        {
          "output_type": "stream",
          "name": "stdout",
          "text": [
            "epoch== 43 train_loss 0.16875007323358418 val_loss 3.956624386045668 val_acc: 664 1415 46.92579505300353\n"
          ]
        },
        {
          "output_type": "stream",
          "name": "stderr",
          "text": [
            "100%|██████████| 371/371 [00:05<00:00, 67.18it/s]\n",
            "100%|██████████| 45/45 [00:00<00:00, 286.49it/s]\n"
          ]
        },
        {
          "output_type": "stream",
          "name": "stdout",
          "text": [
            "epoch== 44 train_loss 0.17164824903011322 val_loss 4.056762075424194 val_acc: 658 1415 46.5017667844523\n"
          ]
        },
        {
          "output_type": "stream",
          "name": "stderr",
          "text": [
            "100%|██████████| 371/371 [00:05<00:00, 71.25it/s]\n",
            "100%|██████████| 45/45 [00:00<00:00, 465.78it/s]\n"
          ]
        },
        {
          "output_type": "stream",
          "name": "stdout",
          "text": [
            "epoch== 45 train_loss 0.16619910064813584 val_loss 4.1021852175394695 val_acc: 646 1415 45.65371024734982\n"
          ]
        },
        {
          "output_type": "stream",
          "name": "stderr",
          "text": [
            "100%|██████████| 371/371 [00:05<00:00, 72.51it/s]\n",
            "100%|██████████| 45/45 [00:00<00:00, 363.61it/s]\n"
          ]
        },
        {
          "output_type": "stream",
          "name": "stdout",
          "text": [
            "epoch== 46 train_loss 0.1663705074978927 val_loss 4.0614729146162665 val_acc: 653 1415 46.148409893992934\n"
          ]
        },
        {
          "output_type": "stream",
          "name": "stderr",
          "text": [
            "100%|██████████| 371/371 [00:05<00:00, 64.34it/s]\n",
            "100%|██████████| 45/45 [00:00<00:00, 385.14it/s]\n"
          ]
        },
        {
          "output_type": "stream",
          "name": "stdout",
          "text": [
            "epoch== 47 train_loss 0.16561331179474964 val_loss 4.142492779095968 val_acc: 651 1415 46.00706713780919\n"
          ]
        },
        {
          "output_type": "stream",
          "name": "stderr",
          "text": [
            "100%|██████████| 371/371 [00:05<00:00, 72.09it/s]\n",
            "100%|██████████| 45/45 [00:00<00:00, 428.21it/s]\n"
          ]
        },
        {
          "output_type": "stream",
          "name": "stdout",
          "text": [
            "epoch== 48 train_loss 0.15906045968943047 val_loss 4.2265181806352405 val_acc: 651 1415 46.00706713780919\n"
          ]
        },
        {
          "output_type": "stream",
          "name": "stderr",
          "text": [
            "100%|██████████| 371/371 [00:05<00:00, 63.61it/s]\n",
            "100%|██████████| 45/45 [00:00<00:00, 442.44it/s]\n"
          ]
        },
        {
          "output_type": "stream",
          "name": "stdout",
          "text": [
            "epoch== 49 train_loss 0.16146211037813935 val_loss 4.393626120355394 val_acc: 649 1415 45.86572438162544\n"
          ]
        },
        {
          "output_type": "stream",
          "name": "stderr",
          "text": [
            "100%|██████████| 371/371 [00:05<00:00, 69.30it/s]\n",
            "100%|██████████| 45/45 [00:00<00:00, 460.67it/s]\n"
          ]
        },
        {
          "output_type": "stream",
          "name": "stdout",
          "text": [
            "epoch== 50 train_loss 0.1597602983278968 val_loss 4.3128793398539225 val_acc: 654 1415 46.21908127208481\n"
          ]
        },
        {
          "output_type": "stream",
          "name": "stderr",
          "text": [
            "100%|██████████| 371/371 [00:05<00:00, 64.72it/s]\n",
            "100%|██████████| 45/45 [00:00<00:00, 340.22it/s]\n"
          ]
        },
        {
          "output_type": "stream",
          "name": "stdout",
          "text": [
            "epoch== 51 train_loss 0.1579464021718727 val_loss 4.424018753899468 val_acc: 654 1415 46.21908127208481\n"
          ]
        },
        {
          "output_type": "stream",
          "name": "stderr",
          "text": [
            "100%|██████████| 371/371 [00:05<00:00, 66.11it/s]\n",
            "100%|██████████| 45/45 [00:00<00:00, 464.07it/s]\n"
          ]
        },
        {
          "output_type": "stream",
          "name": "stdout",
          "text": [
            "epoch== 52 train_loss 0.15613351669413542 val_loss 4.417067692014906 val_acc: 656 1415 46.36042402826855\n"
          ]
        },
        {
          "output_type": "stream",
          "name": "stderr",
          "text": [
            "100%|██████████| 371/371 [00:05<00:00, 69.67it/s]\n",
            "100%|██████████| 45/45 [00:00<00:00, 470.29it/s]\n"
          ]
        },
        {
          "output_type": "stream",
          "name": "stdout",
          "text": [
            "epoch== 53 train_loss 0.15834522833470305 val_loss 4.443685989909702 val_acc: 656 1415 46.36042402826855\n"
          ]
        },
        {
          "output_type": "stream",
          "name": "stderr",
          "text": [
            "100%|██████████| 371/371 [00:05<00:00, 63.94it/s]\n",
            "100%|██████████| 45/45 [00:00<00:00, 455.04it/s]\n"
          ]
        },
        {
          "output_type": "stream",
          "name": "stdout",
          "text": [
            "epoch== 54 train_loss 0.1572334132611631 val_loss 4.44649945365058 val_acc: 658 1415 46.5017667844523\n"
          ]
        },
        {
          "output_type": "stream",
          "name": "stderr",
          "text": [
            "100%|██████████| 371/371 [00:05<00:00, 69.63it/s]\n",
            "100%|██████████| 45/45 [00:00<00:00, 475.45it/s]\n"
          ]
        },
        {
          "output_type": "stream",
          "name": "stdout",
          "text": [
            "epoch== 55 train_loss 0.15744363308213952 val_loss 4.536062457826403 val_acc: 647 1415 45.724381625441694\n"
          ]
        },
        {
          "output_type": "stream",
          "name": "stderr",
          "text": [
            "100%|██████████| 371/371 [00:06<00:00, 61.33it/s]\n",
            "100%|██████████| 45/45 [00:00<00:00, 456.03it/s]\n"
          ]
        },
        {
          "output_type": "stream",
          "name": "stdout",
          "text": [
            "epoch== 56 train_loss 0.1540424038299593 val_loss 4.563463197814094 val_acc: 652 1415 46.07773851590106\n"
          ]
        },
        {
          "output_type": "stream",
          "name": "stderr",
          "text": [
            "100%|██████████| 371/371 [00:05<00:00, 68.29it/s]\n",
            "100%|██████████| 45/45 [00:00<00:00, 410.85it/s]\n"
          ]
        },
        {
          "output_type": "stream",
          "name": "stdout",
          "text": [
            "epoch== 57 train_loss 0.1542071197734207 val_loss 4.63465256690979 val_acc: 649 1415 45.86572438162544\n"
          ]
        },
        {
          "output_type": "stream",
          "name": "stderr",
          "text": [
            "100%|██████████| 371/371 [00:05<00:00, 64.20it/s]\n",
            "100%|██████████| 45/45 [00:00<00:00, 280.29it/s]\n"
          ]
        },
        {
          "output_type": "stream",
          "name": "stdout",
          "text": [
            "epoch== 58 train_loss 0.15458880868963798 val_loss 4.608928351932102 val_acc: 646 1415 45.65371024734982\n"
          ]
        },
        {
          "output_type": "stream",
          "name": "stderr",
          "text": [
            "100%|██████████| 371/371 [00:05<00:00, 68.66it/s]\n",
            "100%|██████████| 45/45 [00:00<00:00, 467.63it/s]\n"
          ]
        },
        {
          "output_type": "stream",
          "name": "stdout",
          "text": [
            "epoch== 59 train_loss 0.14938328660412056 val_loss 4.677485725614759 val_acc: 651 1415 46.00706713780919\n"
          ]
        },
        {
          "output_type": "stream",
          "name": "stderr",
          "text": [
            "100%|██████████| 371/371 [00:05<00:00, 71.21it/s]\n",
            "100%|██████████| 45/45 [00:00<00:00, 344.38it/s]\n"
          ]
        },
        {
          "output_type": "stream",
          "name": "stdout",
          "text": [
            "epoch== 60 train_loss 0.1519455049586083 val_loss 4.6964371098412405 val_acc: 648 1415 45.79505300353357\n"
          ]
        },
        {
          "output_type": "stream",
          "name": "stderr",
          "text": [
            "100%|██████████| 371/371 [00:05<00:00, 62.74it/s]\n",
            "100%|██████████| 45/45 [00:00<00:00, 474.68it/s]\n"
          ]
        },
        {
          "output_type": "stream",
          "name": "stdout",
          "text": [
            "epoch== 61 train_loss 0.14962967684884076 val_loss 4.805213684505887 val_acc: 649 1415 45.86572438162544\n"
          ]
        },
        {
          "output_type": "stream",
          "name": "stderr",
          "text": [
            "100%|██████████| 371/371 [00:05<00:00, 70.17it/s]\n",
            "100%|██████████| 45/45 [00:00<00:00, 468.21it/s]\n"
          ]
        },
        {
          "output_type": "stream",
          "name": "stdout",
          "text": [
            "epoch== 62 train_loss 0.14977925466976036 val_loss 4.828453048070272 val_acc: 649 1415 45.86572438162544\n"
          ]
        },
        {
          "output_type": "stream",
          "name": "stderr",
          "text": [
            "100%|██████████| 371/371 [00:05<00:00, 62.42it/s]\n",
            "100%|██████████| 45/45 [00:00<00:00, 457.99it/s]\n"
          ]
        },
        {
          "output_type": "stream",
          "name": "stdout",
          "text": [
            "epoch== 63 train_loss 0.15031239867581914 val_loss 4.740146133634779 val_acc: 645 1415 45.583038869257955\n"
          ]
        },
        {
          "output_type": "stream",
          "name": "stderr",
          "text": [
            "100%|██████████| 371/371 [00:05<00:00, 70.58it/s]\n",
            "100%|██████████| 45/45 [00:00<00:00, 453.57it/s]\n"
          ]
        },
        {
          "output_type": "stream",
          "name": "stdout",
          "text": [
            "epoch== 64 train_loss 0.14864546945695126 val_loss 4.789319639735751 val_acc: 647 1415 45.724381625441694\n"
          ]
        },
        {
          "output_type": "stream",
          "name": "stderr",
          "text": [
            "100%|██████████| 371/371 [00:05<00:00, 64.21it/s]\n",
            "100%|██████████| 45/45 [00:00<00:00, 259.37it/s]\n"
          ]
        },
        {
          "output_type": "stream",
          "name": "stdout",
          "text": [
            "epoch== 65 train_loss 0.15044507384237474 val_loss 4.820992347929213 val_acc: 656 1415 46.36042402826855\n"
          ]
        },
        {
          "output_type": "stream",
          "name": "stderr",
          "text": [
            "100%|██████████| 371/371 [00:05<00:00, 70.61it/s]\n",
            "100%|██████████| 45/45 [00:00<00:00, 499.96it/s]\n"
          ]
        },
        {
          "output_type": "stream",
          "name": "stdout",
          "text": [
            "epoch== 66 train_loss 0.14772026192125767 val_loss 4.951486651102702 val_acc: 653 1415 46.148409893992934\n"
          ]
        },
        {
          "output_type": "stream",
          "name": "stderr",
          "text": [
            "100%|██████████| 371/371 [00:05<00:00, 67.28it/s]\n",
            "100%|██████████| 45/45 [00:00<00:00, 322.19it/s]\n"
          ]
        },
        {
          "output_type": "stream",
          "name": "stdout",
          "text": [
            "epoch== 67 train_loss 0.1411314127713221 val_loss 4.938013495339288 val_acc: 644 1415 45.51236749116608\n"
          ]
        },
        {
          "output_type": "stream",
          "name": "stderr",
          "text": [
            "100%|██████████| 371/371 [00:06<00:00, 59.94it/s]\n",
            "100%|██████████| 45/45 [00:00<00:00, 457.59it/s]\n"
          ]
        },
        {
          "output_type": "stream",
          "name": "stdout",
          "text": [
            "epoch== 68 train_loss 0.1468805398771946 val_loss 4.962991009818183 val_acc: 649 1415 45.86572438162544\n"
          ]
        },
        {
          "output_type": "stream",
          "name": "stderr",
          "text": [
            "100%|██████████| 371/371 [00:05<00:00, 67.39it/s]\n",
            "100%|██████████| 45/45 [00:00<00:00, 390.95it/s]\n"
          ]
        },
        {
          "output_type": "stream",
          "name": "stdout",
          "text": [
            "epoch== 69 train_loss 0.1477979032003956 val_loss 4.993442233403524 val_acc: 652 1415 46.07773851590106\n"
          ]
        },
        {
          "output_type": "stream",
          "name": "stderr",
          "text": [
            "100%|██████████| 371/371 [00:06<00:00, 61.80it/s]\n",
            "100%|██████████| 45/45 [00:00<00:00, 455.89it/s]\n"
          ]
        },
        {
          "output_type": "stream",
          "name": "stdout",
          "text": [
            "epoch== 70 train_loss 0.1453529208838297 val_loss 5.082346730762058 val_acc: 645 1415 45.583038869257955\n"
          ]
        },
        {
          "output_type": "stream",
          "name": "stderr",
          "text": [
            "100%|██████████| 371/371 [00:05<00:00, 68.65it/s]\n",
            "100%|██████████| 45/45 [00:00<00:00, 411.55it/s]\n"
          ]
        },
        {
          "output_type": "stream",
          "name": "stdout",
          "text": [
            "epoch== 71 train_loss 0.14699418785306562 val_loss 4.990855264663696 val_acc: 647 1415 45.724381625441694\n"
          ]
        },
        {
          "output_type": "stream",
          "name": "stderr",
          "text": [
            "100%|██████████| 371/371 [00:06<00:00, 61.30it/s]\n",
            "100%|██████████| 45/45 [00:00<00:00, 454.46it/s]\n"
          ]
        },
        {
          "output_type": "stream",
          "name": "stdout",
          "text": [
            "epoch== 72 train_loss 0.14216324101224784 val_loss 5.111877791086832 val_acc: 647 1415 45.724381625441694\n"
          ]
        },
        {
          "output_type": "stream",
          "name": "stderr",
          "text": [
            "100%|██████████| 371/371 [00:05<00:00, 68.07it/s]\n",
            "100%|██████████| 45/45 [00:00<00:00, 452.33it/s]\n"
          ]
        },
        {
          "output_type": "stream",
          "name": "stdout",
          "text": [
            "epoch== 73 train_loss 0.14518635012862094 val_loss 5.054330772823757 val_acc: 649 1415 45.86572438162544\n"
          ]
        },
        {
          "output_type": "stream",
          "name": "stderr",
          "text": [
            "100%|██████████| 371/371 [00:05<00:00, 64.92it/s]\n",
            "100%|██████████| 45/45 [00:00<00:00, 329.75it/s]\n"
          ]
        },
        {
          "output_type": "stream",
          "name": "stdout",
          "text": [
            "epoch== 74 train_loss 0.13870848787100007 val_loss 5.1644012398189965 val_acc: 653 1415 46.148409893992934\n"
          ]
        },
        {
          "output_type": "stream",
          "name": "stderr",
          "text": [
            "100%|██████████| 371/371 [00:05<00:00, 66.61it/s]\n",
            "100%|██████████| 45/45 [00:00<00:00, 357.08it/s]\n"
          ]
        },
        {
          "output_type": "stream",
          "name": "stdout",
          "text": [
            "epoch== 75 train_loss 0.14034495553857776 val_loss 5.128740236494276 val_acc: 646 1415 45.65371024734982\n"
          ]
        },
        {
          "output_type": "stream",
          "name": "stderr",
          "text": [
            "100%|██████████| 371/371 [00:05<00:00, 69.23it/s]\n",
            "100%|██████████| 45/45 [00:00<00:00, 463.05it/s]\n"
          ]
        },
        {
          "output_type": "stream",
          "name": "stdout",
          "text": [
            "epoch== 76 train_loss 0.14149669704662582 val_loss 5.266740661197239 val_acc: 656 1415 46.36042402826855\n"
          ]
        },
        {
          "output_type": "stream",
          "name": "stderr",
          "text": [
            "100%|██████████| 371/371 [00:06<00:00, 61.00it/s]\n",
            "100%|██████████| 45/45 [00:00<00:00, 418.85it/s]\n"
          ]
        },
        {
          "output_type": "stream",
          "name": "stdout",
          "text": [
            "epoch== 77 train_loss 0.14102952574637675 val_loss 5.185538366105821 val_acc: 652 1415 46.07773851590106\n"
          ]
        },
        {
          "output_type": "stream",
          "name": "stderr",
          "text": [
            "100%|██████████| 371/371 [00:05<00:00, 69.43it/s]\n",
            "100%|██████████| 45/45 [00:00<00:00, 471.87it/s]\n"
          ]
        },
        {
          "output_type": "stream",
          "name": "stdout",
          "text": [
            "epoch== 78 train_loss 0.14217488762402952 val_loss 5.227943399217394 val_acc: 651 1415 46.00706713780919\n"
          ]
        },
        {
          "output_type": "stream",
          "name": "stderr",
          "text": [
            "100%|██████████| 371/371 [00:05<00:00, 64.47it/s]\n",
            "100%|██████████| 45/45 [00:00<00:00, 419.26it/s]\n"
          ]
        },
        {
          "output_type": "stream",
          "name": "stdout",
          "text": [
            "epoch== 79 train_loss 0.13981452256295518 val_loss 5.313336171044243 val_acc: 645 1415 45.583038869257955\n"
          ]
        },
        {
          "output_type": "stream",
          "name": "stderr",
          "text": [
            "100%|██████████| 371/371 [00:05<00:00, 71.06it/s]\n",
            "100%|██████████| 45/45 [00:00<00:00, 458.32it/s]\n"
          ]
        },
        {
          "output_type": "stream",
          "name": "stdout",
          "text": [
            "epoch== 80 train_loss 0.13768998922333323 val_loss 5.247101672490438 val_acc: 645 1415 45.583038869257955\n"
          ]
        },
        {
          "output_type": "stream",
          "name": "stderr",
          "text": [
            "100%|██████████| 371/371 [00:05<00:00, 62.97it/s]\n",
            "100%|██████████| 45/45 [00:00<00:00, 325.56it/s]\n"
          ]
        },
        {
          "output_type": "stream",
          "name": "stdout",
          "text": [
            "epoch== 81 train_loss 0.13898512545089436 val_loss 5.33005166583591 val_acc: 641 1415 45.30035335689046\n"
          ]
        },
        {
          "output_type": "stream",
          "name": "stderr",
          "text": [
            "100%|██████████| 371/371 [00:05<00:00, 69.73it/s]\n",
            "100%|██████████| 45/45 [00:00<00:00, 479.49it/s]\n"
          ]
        },
        {
          "output_type": "stream",
          "name": "stdout",
          "text": [
            "epoch== 82 train_loss 0.1374893228315078 val_loss 5.369589291678535 val_acc: 650 1415 45.936395759717314\n"
          ]
        },
        {
          "output_type": "stream",
          "name": "stderr",
          "text": [
            "100%|██████████| 371/371 [00:05<00:00, 67.06it/s]\n",
            "100%|██████████| 45/45 [00:00<00:00, 322.34it/s]\n"
          ]
        },
        {
          "output_type": "stream",
          "name": "stdout",
          "text": [
            "epoch== 83 train_loss 0.13983931612333841 val_loss 5.357682826783922 val_acc: 651 1415 46.00706713780919\n"
          ]
        },
        {
          "output_type": "stream",
          "name": "stderr",
          "text": [
            "100%|██████████| 371/371 [00:05<00:00, 65.20it/s]\n",
            "100%|██████████| 45/45 [00:00<00:00, 465.42it/s]\n"
          ]
        },
        {
          "output_type": "stream",
          "name": "stdout",
          "text": [
            "epoch== 84 train_loss 0.1379129147694278 val_loss 5.469474898444282 val_acc: 650 1415 45.936395759717314\n"
          ]
        },
        {
          "output_type": "stream",
          "name": "stderr",
          "text": [
            "100%|██████████| 371/371 [00:05<00:00, 69.81it/s]\n",
            "100%|██████████| 45/45 [00:00<00:00, 491.05it/s]\n"
          ]
        },
        {
          "output_type": "stream",
          "name": "stdout",
          "text": [
            "epoch== 85 train_loss 0.13613335670642254 val_loss 5.445536952548557 val_acc: 642 1415 45.371024734982335\n"
          ]
        },
        {
          "output_type": "stream",
          "name": "stderr",
          "text": [
            "100%|██████████| 371/371 [00:05<00:00, 62.97it/s]\n",
            "100%|██████████| 45/45 [00:00<00:00, 473.95it/s]\n"
          ]
        },
        {
          "output_type": "stream",
          "name": "stdout",
          "text": [
            "epoch== 86 train_loss 0.13573718909676263 val_loss 5.482909732394749 val_acc: 644 1415 45.51236749116608\n"
          ]
        },
        {
          "output_type": "stream",
          "name": "stderr",
          "text": [
            "100%|██████████| 371/371 [00:05<00:00, 69.34it/s]\n",
            "100%|██████████| 45/45 [00:00<00:00, 455.82it/s]\n"
          ]
        },
        {
          "output_type": "stream",
          "name": "stdout",
          "text": [
            "epoch== 87 train_loss 0.1360171636393309 val_loss 5.470556163787842 val_acc: 643 1415 45.4416961130742\n"
          ]
        },
        {
          "output_type": "stream",
          "name": "stderr",
          "text": [
            "100%|██████████| 371/371 [00:05<00:00, 63.25it/s]\n",
            "100%|██████████| 45/45 [00:00<00:00, 337.65it/s]\n"
          ]
        },
        {
          "output_type": "stream",
          "name": "stdout",
          "text": [
            "epoch== 88 train_loss 0.13617849716981947 val_loss 5.429562566015456 val_acc: 644 1415 45.51236749116608\n"
          ]
        },
        {
          "output_type": "stream",
          "name": "stderr",
          "text": [
            "100%|██████████| 371/371 [00:05<00:00, 70.62it/s]\n",
            "100%|██████████| 45/45 [00:00<00:00, 428.49it/s]\n"
          ]
        },
        {
          "output_type": "stream",
          "name": "stdout",
          "text": [
            "epoch== 89 train_loss 0.13315066219793226 val_loss 5.496888224283854 val_acc: 650 1415 45.936395759717314\n"
          ]
        },
        {
          "output_type": "stream",
          "name": "stderr",
          "text": [
            "100%|██████████| 371/371 [00:05<00:00, 69.37it/s]\n",
            "100%|██████████| 45/45 [00:00<00:00, 362.17it/s]\n"
          ]
        },
        {
          "output_type": "stream",
          "name": "stdout",
          "text": [
            "epoch== 90 train_loss 0.1352329895286595 val_loss 5.6055435869428845 val_acc: 651 1415 46.00706713780919\n"
          ]
        },
        {
          "output_type": "stream",
          "name": "stderr",
          "text": [
            "100%|██████████| 371/371 [00:05<00:00, 64.35it/s]\n",
            "100%|██████████| 45/45 [00:00<00:00, 381.03it/s]\n"
          ]
        },
        {
          "output_type": "stream",
          "name": "stdout",
          "text": [
            "epoch== 91 train_loss 0.13411009043073557 val_loss 5.641357808642917 val_acc: 652 1415 46.07773851590106\n"
          ]
        },
        {
          "output_type": "stream",
          "name": "stderr",
          "text": [
            "100%|██████████| 371/371 [00:05<00:00, 69.77it/s]\n",
            "100%|██████████| 45/45 [00:00<00:00, 466.42it/s]\n"
          ]
        },
        {
          "output_type": "stream",
          "name": "stdout",
          "text": [
            "epoch== 92 train_loss 0.13443389188277352 val_loss 5.594424613316854 val_acc: 645 1415 45.583038869257955\n"
          ]
        },
        {
          "output_type": "stream",
          "name": "stderr",
          "text": [
            "100%|██████████| 371/371 [00:05<00:00, 61.91it/s]\n",
            "100%|██████████| 45/45 [00:00<00:00, 466.40it/s]\n"
          ]
        },
        {
          "output_type": "stream",
          "name": "stdout",
          "text": [
            "epoch== 93 train_loss 0.13594988174289352 val_loss 5.580679257710774 val_acc: 651 1415 46.00706713780919\n"
          ]
        },
        {
          "output_type": "stream",
          "name": "stderr",
          "text": [
            "100%|██████████| 371/371 [00:05<00:00, 69.91it/s]\n",
            "100%|██████████| 45/45 [00:00<00:00, 397.69it/s]\n"
          ]
        },
        {
          "output_type": "stream",
          "name": "stdout",
          "text": [
            "epoch== 94 train_loss 0.13333821354366115 val_loss 5.617276488410102 val_acc: 644 1415 45.51236749116608\n"
          ]
        },
        {
          "output_type": "stream",
          "name": "stderr",
          "text": [
            "100%|██████████| 371/371 [00:05<00:00, 64.04it/s]\n",
            "100%|██████████| 45/45 [00:00<00:00, 354.47it/s]\n"
          ]
        },
        {
          "output_type": "stream",
          "name": "stdout",
          "text": [
            "epoch== 95 train_loss 0.13248495964303292 val_loss 5.644065454271105 val_acc: 650 1415 45.936395759717314\n"
          ]
        },
        {
          "output_type": "stream",
          "name": "stderr",
          "text": [
            "100%|██████████| 371/371 [00:05<00:00, 68.82it/s]\n",
            "100%|██████████| 45/45 [00:00<00:00, 460.93it/s]\n"
          ]
        },
        {
          "output_type": "stream",
          "name": "stdout",
          "text": [
            "epoch== 96 train_loss 0.1328207951599501 val_loss 5.68086166911655 val_acc: 650 1415 45.936395759717314\n"
          ]
        },
        {
          "output_type": "stream",
          "name": "stderr",
          "text": [
            "100%|██████████| 371/371 [00:05<00:00, 68.15it/s]\n",
            "100%|██████████| 45/45 [00:00<00:00, 328.58it/s]\n"
          ]
        },
        {
          "output_type": "stream",
          "name": "stdout",
          "text": [
            "epoch== 97 train_loss 0.13132986820722126 val_loss 5.6978360970815025 val_acc: 645 1415 45.583038869257955\n"
          ]
        },
        {
          "output_type": "stream",
          "name": "stderr",
          "text": [
            "100%|██████████| 371/371 [00:05<00:00, 62.54it/s]\n",
            "100%|██████████| 45/45 [00:00<00:00, 417.65it/s]\n"
          ]
        },
        {
          "output_type": "stream",
          "name": "stdout",
          "text": [
            "epoch== 98 train_loss 0.13108681186072207 val_loss 5.716070074505276 val_acc: 649 1415 45.86572438162544\n"
          ]
        },
        {
          "output_type": "stream",
          "name": "stderr",
          "text": [
            "100%|██████████| 371/371 [00:05<00:00, 67.73it/s]\n",
            "100%|██████████| 45/45 [00:00<00:00, 411.77it/s]\n"
          ]
        },
        {
          "output_type": "stream",
          "name": "stdout",
          "text": [
            "epoch== 99 train_loss 0.13304314930669742 val_loss 5.759357542461819 val_acc: 647 1415 45.724381625441694\n"
          ]
        },
        {
          "output_type": "stream",
          "name": "stderr",
          "text": [
            "100%|██████████| 371/371 [00:05<00:00, 61.93it/s]\n",
            "100%|██████████| 45/45 [00:00<00:00, 452.95it/s]"
          ]
        },
        {
          "output_type": "stream",
          "name": "stdout",
          "text": [
            "epoch== 100 train_loss 0.13079378013800316 val_loss 5.715161360634697 val_acc: 648 1415 45.79505300353357\n"
          ]
        },
        {
          "output_type": "stream",
          "name": "stderr",
          "text": [
            "\n"
          ]
        }
      ],
      "source": [
        "\n",
        "train_epoch_loss=[]\n",
        "val_epoch_loss=[]\n",
        "val_accuracy=[]\n",
        "epochs=100\n",
        "\n",
        "for epoch in range(1,epochs+1):\n",
        "    correct_val = 0\n",
        "    total_val = 0\n",
        "    train_loss=[]\n",
        "    val_loss=[]\n",
        "    for inputs,labels in tqdm(train_dataloader):\n",
        "        model.train()\n",
        "        optim.zero_grad()\n",
        "        logits=model.forward(inputs)\n",
        "        loss=criterion(logits,labels)\n",
        "        loss.backward()\n",
        "        optim.step()\n",
        "        train_loss.append(loss.item())\n",
        "\n",
        "    train_epoch_loss.append(sum(train_loss)/len(train_loss))\n",
        "\n",
        "    with torch.no_grad():\n",
        "        for inputs,labels in tqdm(val_dataloader):\n",
        "            model.eval()\n",
        "            logits=model.forward(inputs)\n",
        "            loss=criterion(logits,labels)\n",
        "            val_loss.append(loss.item())\n",
        "            _, predicted = torch.max(logits, 1)\n",
        "            correct_val += (predicted == labels).sum().item()\n",
        "            total_val += labels.size(0)\n",
        "\n",
        "        val_epoch_loss.append(sum(val_loss)/len(val_loss))\n",
        "\n",
        "\n",
        "    print(\"epoch==\",epoch,\"train_loss\",sum(train_loss)/len(train_loss),\"val_loss\",sum(val_loss)/len(val_loss),\"val_acc:\",correct_val,total_val,(correct_val/total_val)*100)\n",
        "\n",
        "\n",
        "\n",
        "\n"
      ]
    },
    {
      "cell_type": "code",
      "source": [
        "from sklearn.model_selection import GridSearchCV\n",
        "from sklearn.linear_model import LogisticRegression\n",
        "\n",
        "param_grid = {\n",
        "    'C': [0.01, 0.1, 1, 10, 100],\n",
        "    'solver': ['newton-cg', 'lbfgs', 'saga'],\n",
        "    'max_iter': [100, 200, 300]\n",
        "}\n",
        "\n",
        "grid_search = GridSearchCV(estimator=LogisticRegression(multi_class='multinomial'), param_grid=param_grid, cv=5, n_jobs=-1, verbose=2)\n",
        "grid_search.fit(train_x_vectors, train_y)\n",
        "\n",
        "best_lr = grid_search.best_estimator_\n",
        "print(f\"Best parameters: {grid_search.best_params_}\")\n"
      ],
      "metadata": {
        "colab": {
          "base_uri": "https://localhost:8080/"
        },
        "id": "KmhpPv6J-abo",
        "outputId": "8975a1cb-b94a-4a54-cf6d-d3f377aae737"
      },
      "execution_count": null,
      "outputs": [
        {
          "output_type": "stream",
          "name": "stdout",
          "text": [
            "Fitting 5 folds for each of 45 candidates, totalling 225 fits\n",
            "Best parameters: {'C': 0.1, 'max_iter': 200, 'solver': 'saga'}\n"
          ]
        }
      ]
    },
    {
      "cell_type": "code",
      "execution_count": null,
      "metadata": {
        "id": "pPeaXOVvorXW",
        "colab": {
          "base_uri": "https://localhost:8080/"
        },
        "outputId": "d8a4e7d5-f772-4eb1-cb63-d0bc5f75f473"
      },
      "outputs": [
        {
          "output_type": "stream",
          "name": "stdout",
          "text": [
            "Accuracy: 0.5168\n",
            "Precision: 0.5289\n",
            "Recall: 0.5168\n",
            "F1-Score: 0.5200\n"
          ]
        }
      ],
      "source": [
        "from sklearn.metrics import accuracy_score, precision_score, recall_score, f1_score\n",
        "\n",
        "predictions = best_lr.predict(test_x_vectors)\n",
        "\n",
        "accuracy = accuracy_score(test_y, predictions)\n",
        "precision = precision_score(test_y, predictions, average='weighted')\n",
        "recall = recall_score(test_y, predictions, average='weighted')\n",
        "f1 = f1_score(test_y, predictions, average='weighted')\n",
        "\n",
        "print(f\"Accuracy: {accuracy:.4f}\")\n",
        "print(f\"Precision: {precision:.4f}\")\n",
        "print(f\"Recall: {recall:.4f}\")\n",
        "print(f\"F1-Score: {f1:.4f}\")\n"
      ]
    },
    {
      "cell_type": "code",
      "source": [
        "from sklearn.model_selection import cross_val_score\n",
        "\n",
        "cv_scores = cross_val_score(best_lr, train_x_vectors, train_y, cv=5, scoring='accuracy')\n",
        "print(f\"Cross-Validation Accuracy: {cv_scores.mean():.4f} ± {cv_scores.std():.4f}\")\n",
        "\n"
      ],
      "metadata": {
        "colab": {
          "base_uri": "https://localhost:8080/"
        },
        "id": "gBhmcN5d-eYT",
        "outputId": "cf0f6234-4ec0-4fa1-f4fd-307dabacd9a4"
      },
      "execution_count": null,
      "outputs": [
        {
          "output_type": "stream",
          "name": "stdout",
          "text": [
            "Cross-Validation Accuracy: 0.5182 ± 0.0082\n"
          ]
        }
      ]
    },
    {
      "cell_type": "code",
      "source": [
        "from sklearn.metrics import confusion_matrix, ConfusionMatrixDisplay\n",
        "\n",
        "conf_matrix = confusion_matrix(test_y, predictions)\n",
        "disp = ConfusionMatrixDisplay(confusion_matrix=conf_matrix)\n",
        "disp.plot()\n"
      ],
      "metadata": {
        "colab": {
          "base_uri": "https://localhost:8080/",
          "height": 466
        },
        "id": "Y3PaZDy7-hbS",
        "outputId": "136854d3-0dcf-4247-ee9a-6badf5bb1971"
      },
      "execution_count": null,
      "outputs": [
        {
          "output_type": "execute_result",
          "data": {
            "text/plain": [
              "<sklearn.metrics._plot.confusion_matrix.ConfusionMatrixDisplay at 0x7aeab21976a0>"
            ]
          },
          "metadata": {},
          "execution_count": 49
        },
        {
          "output_type": "display_data",
          "data": {
            "text/plain": [
              "<Figure size 640x480 with 2 Axes>"
            ],
            "image/png": "[encoded data removed]"
          },
          "metadata": {}
        }
      ]
    },
    {
      "cell_type": "code",
      "source": [
        "from sklearn.metrics import roc_auc_score, roc_curve, auc\n",
        "import matplotlib.pyplot as plt\n",
        "\n",
        "y_prob = best_lr.predict_proba(test_x_vectors)\n",
        "fpr, tpr, _ = roc_curve(test_y, y_prob[:, 1], pos_label=1)\n",
        "roc_auc = auc(fpr, tpr)\n",
        "\n",
        "plt.figure()\n",
        "plt.plot(fpr, tpr, color='darkorange', lw=2, label='ROC curve (area = %0.2f)' % roc_auc)\n",
        "plt.plot([0, 1], [0, 1], color='navy', lw=2, linestyle='--')\n",
        "plt.xlim([0.0, 1.0])\n",
        "plt.ylim([0.0, 1.05])\n",
        "plt.xlabel('False Positive Rate')\n",
        "plt.ylabel('True Positive Rate')\n",
        "plt.title('Receiver Operating Characteristic')\n",
        "plt.legend(loc=\"lower right\")\n",
        "plt.show()\n"
      ],
      "metadata": {
        "colab": {
          "base_uri": "https://localhost:8080/",
          "height": 507
        },
        "id": "LNv_uwc5-jkO",
        "outputId": "96321bac-6eef-4dde-a176-dd12d1070a01"
      },
      "execution_count": null,
      "outputs": [
        {
          "output_type": "stream",
          "name": "stderr",
          "text": [
            "/usr/local/lib/python3.10/dist-packages/sklearn/metrics/_ranking.py:1029: UndefinedMetricWarning: No positive samples in y_true, true positive value should be meaningless\n",
            "  warnings.warn(\n"
          ]
        },
        {
          "output_type": "display_data",
          "data": {
            "text/plain": [
              "<Figure size 640x480 with 1 Axes>"
            ],
            "image/png": "[encoded data removed]"
          },
          "metadata": {}
        }
      ]
    },
    {
      "cell_type": "code",
      "source": [
        "from flask import Flask, request, jsonify\n",
        "import pickle\n",
        "\n",
        "app = Flask(__name__)\n",
        "\n",
        "# Save the trained model\n",
        "with open('best_lr_model.pkl', 'wb') as model_file:\n",
        "    pickle.dump(best_lr, model_file)\n",
        "\n",
        "# Load the trained model\n",
        "with open('best_lr_model.pkl', 'rb') as model_file:\n",
        "    model = pickle.load(model_file)\n",
        "\n",
        "@app.route('/predict', methods=['POST'])\n",
        "def predict():\n",
        "    data = request.get_json(force=True)\n",
        "    prediction = model.predict([data['features']])\n",
        "    return jsonify(prediction=prediction[0])\n",
        "\n",
        "if __name__ == '__main__':\n",
        "    app.run(debug=True)\n",
        "\n"
      ],
      "metadata": {
        "colab": {
          "base_uri": "https://localhost:8080/"
        },
        "id": "ml7aAMnJ-wx_",
        "outputId": "5cefbd7d-b07e-4c23-a27d-dfc9d594a6e6"
      },
      "execution_count": null,
      "outputs": [
        {
          "output_type": "stream",
          "name": "stdout",
          "text": [
            " * Serving Flask app '__main__'\n",
            " * Debug mode: on\n"
          ]
        },
        {
          "output_type": "stream",
          "name": "stderr",
          "text": [
            "INFO:werkzeug:\u001b[31m\u001b[1mWARNING: This is a development server. Do not use it in a production deployment. Use a production WSGI server instead.\u001b[0m\n",
            " * Running on http://127.0.0.1:5000\n",
            "INFO:werkzeug:\u001b[33mPress CTRL+C to quit\u001b[0m\n",
            "INFO:werkzeug: * Restarting with stat\n"
          ]
        }
      ]
    },
    {
      "cell_type": "code",
      "source": [],
      "metadata": {
        "id": "Fi-uIllq-xwB"
      },
      "execution_count": null,
      "outputs": []
    }
  ],
  "metadata": {
    "colab": {
      "provenance": [],
      "gpuType": "T4"
    },
    "kernelspec": {
      "display_name": "Python 3",
      "name": "python3"
    },
    "language_info": {
      "name": "python"
    },
    "accelerator": "GPU"
  },
  "nbformat": 4,
  "nbformat_minor": 0
}